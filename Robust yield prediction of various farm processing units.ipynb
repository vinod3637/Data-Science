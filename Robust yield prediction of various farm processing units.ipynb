{
 "cells": [
  {
   "cell_type": "markdown",
   "metadata": {
    "colab_type": "text",
    "id": "lzO48zyaPNYI"
   },
   "source": [
    "<h4><font color='#F55905'> <u>BUSINESS PROBLEM:</u></font><center><br><br><font color='#15657F'>Robust yield prediction of various farm processing units</font></center></h4>\n",
    "\n",
    "A new fast food chain is seeing rapid expansion over the past couple of years. They\n",
    "are now trying to optimize their supply chain to ensure that there are no shortages\n",
    "of ingredients. For this, they’ve tasked their data science team to come up with a\n",
    "model that could predict the output of each food processing farm over the next\n",
    "few years. These predictions could further increase the efficiency of their current\n",
    "supply chain management systems.\n",
    "\n",
    "<h4><font color='#F55905'><u>MACHINE LEARNING PROBLEM:</u></font><center><br><br><font color='#15657F'>USE A REGRESSION MODEL TO PREDICT THE YIELD OF THE CROP FOR THE GIVEN TIMESTAMP </font></center></h4>"
   ]
  },
  {
   "cell_type": "markdown",
   "metadata": {
    "colab_type": "text",
    "id": "ixrOXpjwGlOq"
   },
   "source": [
    "<h4><font color='#F55905'><u>ATTRIBUTE DESCRIPTION:</u></font></h4>\n"
   ]
  },
  {
   "cell_type": "markdown",
   "metadata": {
    "colab_type": "text",
    "id": "CYJk4MvZOeL6"
   },
   "source": [
    "<h4><font color='#F55905'><u>Train data and Test data:</u></font></h4>\n",
    "<table cellspacing=\"0\" border=\"0\">\n",
    "  <tr>\n",
    "    <td height=\"17\" align=\"left\">Farm id</td>\n",
    "    <td align=\"left\">Unique farm ids</td>\n",
    "  </tr>\n",
    "  <tr>\n",
    "    <td height=\"17\" align=\"left\">Date</td>\n",
    "    <td align=\"left\">Dates per hour from 2016 in train and from 2017 in test </td>\n",
    "  </tr>\n",
    "  <tr>\n",
    "    <td height=\"17\" align=\"left\">Ingredient_type</td>\n",
    "    <td align=\"left\">Type of ingredient in the farm : There are 4 types - w,x,y,z</td>\n",
    "  </tr>\n",
    "  </tr>\n",
    "  <tr>\n",
    "    <td height=\"17\" align=\"left\">Yield</td>\n",
    "    <td align=\"left\">Yield for each farm per hour</td>\n",
    "  </tr>\n",
    "</table>"
   ]
  },
  {
   "cell_type": "markdown",
   "metadata": {
    "colab_type": "text",
    "id": "k8qK7-4oOWf_"
   },
   "source": [
    "<h4><font color='#F55905'><u>Farm Data</u></font></h4>\n",
    "<table cellspacing=\"0\" border=\"0\">\n",
    "  <tr>\n",
    "    <td height=\"17\" align=\"left\">Farm id</td>\n",
    "    <td align=\"left\">Unique farm ids</td>\n",
    "  </tr>\n",
    "  <tr>\n",
    "    <td height=\"17\" align=\"left\">operations_commencing_year</td>\n",
    "    <td align=\"left\">Year the farm has started</td>\n",
    "  </tr>\n",
    "  <tr>\n",
    "    <td height=\"17\" align=\"left\">num_processing_plants</td>\n",
    "    <td align=\"left\">processing plants present in the location/ farm </td>\n",
    "  </tr>\n",
    "  <tr>\n",
    "    <td height=\"17\" align=\"left\">farm_area</td>\n",
    "    <td align=\"left\">Area of the given farm</td>\n",
    "  </tr>\n",
    "  <tr>\n",
    "    <td height=\"17\" align=\"left\">farming_company</td>\n",
    "    <td align=\"left\">The company that owns the farm</td>\n",
    "  </tr>\n",
    "  <tr>\n",
    "    <td height=\"17\" align=\"left\">deidentified_location</td>\n",
    "    <td align=\"left\">Location of the farm</td>\n",
    "  </tr>\n",
    "\n",
    "  \n",
    "</table>"
   ]
  },
  {
   "cell_type": "markdown",
   "metadata": {
    "colab_type": "text",
    "id": "34Hr05YUOM0Z"
   },
   "source": [
    "<h4><font color='#F55905'><u>Train weather and Test weather</u></font></h4>\n",
    "<table cellspacing=\"0\" border=\"0\">\n",
    "  <tr>\n",
    "    <td height=\"17\" align=\"left\">timestamp</td>\n",
    "    <td align=\"left\">Dates at which the weather was calculated at each hour</td>\n",
    "  </tr>\n",
    "  <tr>\n",
    "    <td height=\"17\" align=\"left\">deidentified_location</td>\n",
    "    <td align=\"left\">Location of the farm</td>\n",
    "  </tr>\n",
    "  <tr>\n",
    "    <td height=\"17\" align=\"left\">temp_obs</td>\n",
    "    <td align=\"left\">Temperature at that hour</td>\n",
    "  </tr>\n",
    "  <tr>\n",
    "    <td height=\"17\" align=\"left\">cloudiness</td>\n",
    "    <td align=\"left\">Cloulds present in the sky at that hour</td>\n",
    "  </tr>\n",
    "  <tr>\n",
    "    <td height=\"17\" align=\"left\">wind_direction</td>\n",
    "    <td align=\"left\">The direction of the wind at the hour</td>\n",
    "  </tr>\n",
    "  <tr>\n",
    "    <td height=\"17\" align=\"left\">dew_temp</td>\n",
    "    <td align=\"left\">Dew temperature at the hour</td>\n",
    "  </tr>\n",
    "  <tr>\n",
    "    <td height=\"17\" align=\"left\">pressure_sea_level</td>\n",
    "    <td align=\"left\">Pressure sea level at the hour</td>\n",
    "  </tr>\n",
    "  <tr>\n",
    "    <td height=\"17\" align=\"left\">precipitation</td>\n",
    "    <td align=\"left\">Rainfall at the hour</td>\n",
    "  </tr>\n",
    "  <tr>\n",
    "    <td height=\"17\" align=\"left\">wind_speed</td>\n",
    "    <td align=\"left\">Wind speed at that hour</td>\n",
    "  </tr>\n",
    "\n",
    "\n",
    "</table>"
   ]
  },
  {
   "cell_type": "code",
   "execution_count": 1,
   "metadata": {
    "colab": {
     "base_uri": "https://localhost:8080/",
     "height": 122
    },
    "colab_type": "code",
    "id": "jS838B6HrrnA",
    "outputId": "049b7241-c849-432b-9ed9-864b97a62e25"
   },
   "outputs": [
    {
     "name": "stdout",
     "output_type": "stream",
     "text": [
      "Go to this URL in a browser: https://accounts.google.com/o/oauth2/auth?client_id=947318989803-6bn6qk8qdgf4n4g3pfee6491hc0brc4i.apps.googleusercontent.com&redirect_uri=urn%3aietf%3awg%3aoauth%3a2.0%3aoob&response_type=code&scope=email%20https%3a%2f%2fwww.googleapis.com%2fauth%2fdocs.test%20https%3a%2f%2fwww.googleapis.com%2fauth%2fdrive%20https%3a%2f%2fwww.googleapis.com%2fauth%2fdrive.photos.readonly%20https%3a%2f%2fwww.googleapis.com%2fauth%2fpeopleapi.readonly\n",
      "\n",
      "Enter your authorization code:\n",
      "··········\n",
      "Mounted at /content/drive\n"
     ]
    }
   ],
   "source": [
    "from google.colab import drive\n",
    "drive.mount('/content/drive')"
   ]
  },
  {
   "cell_type": "code",
   "execution_count": 0,
   "metadata": {
    "colab": {},
    "colab_type": "code",
    "id": "ejTlPaU1rsKO"
   },
   "outputs": [],
   "source": [
    "import pandas as pd\n",
    "import numpy as np\n",
    "import matplotlib.pyplot as plt\n",
    "import seaborn as sns"
   ]
  },
  {
   "cell_type": "markdown",
   "metadata": {
    "colab_type": "text",
    "id": "kkRzHB9csLdt"
   },
   "source": [
    "##train_data"
   ]
  },
  {
   "cell_type": "code",
   "execution_count": 0,
   "metadata": {
    "colab": {},
    "colab_type": "code",
    "id": "_q4kDPVYr7eZ"
   },
   "outputs": [],
   "source": [
    "train_data=pd.read_csv(\"/content/drive/My Drive/train_data.csv\")\n",
    "farm_data=pd.read_csv(\"/content/drive/My Drive/farm_data.csv\")\n",
    "train_weather=pd.read_csv(\"/content/drive/My Drive/train_weather.csv\")"
   ]
  },
  {
   "cell_type": "markdown",
   "metadata": {
    "colab_type": "text",
    "id": "eRgrZZfYvziP"
   },
   "source": [
    "##Test_data"
   ]
  },
  {
   "cell_type": "code",
   "execution_count": 0,
   "metadata": {
    "colab": {},
    "colab_type": "code",
    "id": "XL5HaQvXvtgm"
   },
   "outputs": [],
   "source": [
    "test_data=pd.read_csv(\"/content/drive/My Drive/test_data.csv\")\n",
    "test_weather=pd.read_csv(\"/content/drive/My Drive/test_weather.csv\")"
   ]
  },
  {
   "cell_type": "markdown",
   "metadata": {
    "colab_type": "text",
    "id": "5Jq4jOBtxUd3"
   },
   "source": [
    "#Explore the data and engineer new features"
   ]
  },
  {
   "cell_type": "markdown",
   "metadata": {
    "colab_type": "text",
    "id": "lkGXq258K5Qz"
   },
   "source": [
    "##merging the datasets for visualization"
   ]
  },
  {
   "cell_type": "code",
   "execution_count": 0,
   "metadata": {
    "colab": {},
    "colab_type": "code",
    "id": "rTY8fZ2DJKLC"
   },
   "outputs": [],
   "source": [
    "farm_data.drop_duplicates(subset=\"farm_id\",inplace=True)"
   ]
  },
  {
   "cell_type": "code",
   "execution_count": 0,
   "metadata": {
    "colab": {},
    "colab_type": "code",
    "id": "pwIQMUO_GjtB"
   },
   "outputs": [],
   "source": [
    "data1=pd.merge(train_data,farm_data,on=\"farm_id\")"
   ]
  },
  {
   "cell_type": "code",
   "execution_count": 0,
   "metadata": {
    "colab": {
     "base_uri": "https://localhost:8080/",
     "height": 34
    },
    "colab_type": "code",
    "id": "Vsv5ApyFGjm9",
    "outputId": "a2452440-01fe-486d-b169-b1b5c931ac76"
   },
   "outputs": [
    {
     "data": {
      "text/plain": [
       "(20216100, 9)"
      ]
     },
     "execution_count": 50,
     "metadata": {
      "tags": []
     },
     "output_type": "execute_result"
    }
   ],
   "source": [
    "data1.shape"
   ]
  },
  {
   "cell_type": "code",
   "execution_count": 0,
   "metadata": {
    "colab": {},
    "colab_type": "code",
    "id": "Jdu6kWD7GjPs"
   },
   "outputs": [],
   "source": [
    "data2=pd.merge(data1,train_weather,how=\"left\",left_on=[\"deidentified_location\",\"date\"],right_on=['deidentified_location',\"timestamp\"])"
   ]
  },
  {
   "cell_type": "code",
   "execution_count": 0,
   "metadata": {
    "colab": {
     "base_uri": "https://localhost:8080/",
     "height": 34
    },
    "colab_type": "code",
    "id": "w9DDyH3bGit5",
    "outputId": "1a2cc98a-99c4-4ee7-b2d4-caac7ca2b02a"
   },
   "outputs": [
    {
     "data": {
      "text/plain": [
       "(20216100, 17)"
      ]
     },
     "execution_count": 52,
     "metadata": {
      "tags": []
     },
     "output_type": "execute_result"
    }
   ],
   "source": [
    "data2.shape"
   ]
  },
  {
   "cell_type": "code",
   "execution_count": 0,
   "metadata": {
    "colab": {},
    "colab_type": "code",
    "id": "F-ZrwLDzTPHc"
   },
   "outputs": [],
   "source": [
    "data2[\"day\"]=pd.DatetimeIndex(data2[\"date\"]).day\n",
    "data2[\"month\"]=pd.DatetimeIndex(data2[\"date\"]).month"
   ]
  },
  {
   "cell_type": "code",
   "execution_count": 0,
   "metadata": {
    "colab": {
     "base_uri": "https://localhost:8080/",
     "height": 515
    },
    "colab_type": "code",
    "id": "sNdGP3n_MMsI",
    "outputId": "790139a6-7417-4dce-d1fc-253e6737e30c"
   },
   "outputs": [
    {
     "data": {
      "image/png": "[encoded data removed]",
      "text/plain": [
       "<Figure size 1080x576 with 1 Axes>"
      ]
     },
     "metadata": {
      "tags": []
     },
     "output_type": "display_data"
    }
   ],
   "source": [
    "ing_yield=pd.DataFrame(data2.groupby(\"ingredient_type\")[\"yield\"].sum())\n",
    "ing_yield=ing_yield.reset_index()\n",
    "plt.figure(figsize=(15,8))\n",
    "sns.barplot(x=\"ingredient_type\",y=\"yield\",data=ing_yield)\n",
    "plt.title(\"ingredient yield production\")\n",
    "plt.show()"
   ]
  },
  {
   "cell_type": "code",
   "execution_count": 0,
   "metadata": {
    "colab": {
     "base_uri": "https://localhost:8080/",
     "height": 714
    },
    "colab_type": "code",
    "id": "uefGTq2qMMpH",
    "outputId": "633af9be-e65e-42e2-9180-aa6b2bee9fe0"
   },
   "outputs": [
    {
     "name": "stderr",
     "output_type": "stream",
     "text": [
      "/usr/local/lib/python3.6/dist-packages/IPython/core/pylabtools.py:125: MatplotlibDeprecationWarning: Support for uppercase single-letter colors is deprecated since Matplotlib 3.1 and will be removed in 3.3; please use lowercase instead.\n",
      "  fig.canvas.print_figure(bytes_io, **kw)\n"
     ]
    },
    {
     "data": {
      "image/png": "[encoded data removed]",
      "text/plain": [
       "<Figure size 1800x720 with 1 Axes>"
      ]
     },
     "metadata": {
      "tags": []
     },
     "output_type": "display_data"
    }
   ],
   "source": [
    "farmarea=pd.DataFrame(data2.groupby([\"deidentified_location\"])[\"farm_area\"].mean())\n",
    "farmarea=farmarea.reset_index()\n",
    "plt.figure(figsize=(25,10))\n",
    "sns.barplot(x=\"deidentified_location\",y=\"farm_area\",data=farmarea)\n",
    "plt.title(\"location wise crop data\",fontsize=30,color = 'B')\n",
    "plt.xlabel(\"deidentified_location\",fontsize=35,color = 'r')\n",
    "plt.show()"
   ]
  },
  {
   "cell_type": "code",
   "execution_count": 0,
   "metadata": {
    "colab": {
     "base_uri": "https://localhost:8080/",
     "height": 680
    },
    "colab_type": "code",
    "id": "wpxSmswDMMlm",
    "outputId": "a5deb263-ca78-4544-b117-9ba3b91c18e4"
   },
   "outputs": [
    {
     "data": {
      "image/png": "[encoded data removed]",
      "text/plain": [
       "<Figure size 1800x720 with 1 Axes>"
      ]
     },
     "metadata": {
      "tags": []
     },
     "output_type": "display_data"
    }
   ],
   "source": [
    "farmarea=pd.DataFrame(data2.groupby([\"ingredient_type\",\"deidentified_location\"])[\"yield\"].count())\n",
    "farmarea=farmarea.reset_index()\n",
    "plt.figure(figsize=(25,10))\n",
    "sns.barplot(x=\"deidentified_location\",y=\"yield\",data=farmarea,hue=\"ingredient_type\",)\n",
    "plt.title(\"location wise crop data with yield\",fontsize=30,color = 'B')\n",
    "plt.xlabel(\"deidentified_location\",fontsize=35,color = 'r')\n",
    "plt.show()"
   ]
  },
  {
   "cell_type": "code",
   "execution_count": 0,
   "metadata": {
    "colab": {
     "base_uri": "https://localhost:8080/",
     "height": 770
    },
    "colab_type": "code",
    "id": "ds3caESrO5gj",
    "outputId": "215f72b7-5c90-4579-d31f-b7ee3088b3a6"
   },
   "outputs": [
    {
     "data": {
      "image/png": "[encoded data removed]",
      "text/plain": [
       "<Figure size 1800x720 with 1 Axes>"
      ]
     },
     "metadata": {
      "tags": []
     },
     "output_type": "display_data"
    }
   ],
   "source": [
    "farmarea_by_each_company=pd.DataFrame(data2.groupby([\"ingredient_type\",\"farming_company\"])[\"farm_area\"].mean())\n",
    "farmarea_by_each_company=farmarea_by_each_company.reset_index()\n",
    "plt.figure(figsize=(25,10))\n",
    "sns.barplot(x=\"farming_company\",y=\"farm_area\",data=farmarea_by_each_company,hue=\"ingredient_type\",saturation=0.75)\n",
    "plt.title(\"farmarea_by_each_company\",fontsize=30,color = 'B')\n",
    "plt.xlabel(\"farming_company\",fontsize=20,color = 'B')\n",
    "plt.xticks(rotation=35)\n",
    "plt.show()"
   ]
  },
  {
   "cell_type": "code",
   "execution_count": 0,
   "metadata": {
    "colab": {
     "base_uri": "https://localhost:8080/",
     "height": 770
    },
    "colab_type": "code",
    "id": "sIK-2wZS3sKr",
    "outputId": "93227a76-a582-4acc-8a24-c56b8e2dc511"
   },
   "outputs": [
    {
     "data": {
      "image/png": "[encoded data removed]",
      "text/plain": [
       "<Figure size 1800x720 with 1 Axes>"
      ]
     },
     "metadata": {
      "tags": []
     },
     "output_type": "display_data"
    }
   ],
   "source": [
    "yield_by_each_company=pd.DataFrame(data2.groupby([\"farming_company\"])[\"yield\"].mean())\n",
    "yield_by_each_company=yield_by_each_company.reset_index()\n",
    "plt.figure(figsize=(25,10))\n",
    "sns.barplot(x=\"farming_company\",y=\"yield\",data=yield_by_each_company,saturation=0.75)\n",
    "plt.title(\"yield_by_each_company\",fontsize=30,color = 'B')\n",
    "plt.xlabel(\"farming_company\",fontsize=20,color = 'B')\n",
    "plt.xticks(rotation=35)\n",
    "plt.show()"
   ]
  },
  {
   "cell_type": "code",
   "execution_count": 0,
   "metadata": {
    "colab": {
     "base_uri": "https://localhost:8080/",
     "height": 534
    },
    "colab_type": "code",
    "id": "F-6CDRNOQA36",
    "outputId": "fc35bdd4-9317-418f-d5ae-6f0207978d79"
   },
   "outputs": [
    {
     "data": {
      "image/png": "[encoded data removed]",
      "text/plain": [
       "<Figure size 1800x576 with 1 Axes>"
      ]
     },
     "metadata": {
      "tags": []
     },
     "output_type": "display_data"
    }
   ],
   "source": [
    "locationwise_yield=pd.DataFrame(data2.groupby(\"deidentified_location\")[\"yield\"].mean())\n",
    "locationwise_yield=locationwise_yield.reset_index()\n",
    "plt.figure(figsize=(25,8))\n",
    "sns.barplot(x=\"deidentified_location\",y=\"yield\",data=locationwise_yield)\n",
    "plt.title(\"location_wise_yield\")\n",
    "plt.show()"
   ]
  },
  {
   "cell_type": "code",
   "execution_count": 0,
   "metadata": {
    "colab": {
     "base_uri": "https://localhost:8080/",
     "height": 410
    },
    "colab_type": "code",
    "id": "yZtvzyAMQ5v9",
    "outputId": "fd3c59e5-2630-42df-de86-77facd49bf06"
   },
   "outputs": [
    {
     "data": {
      "text/plain": [
       "Text(0, 0.5, 'yield')"
      ]
     },
     "execution_count": 71,
     "metadata": {
      "tags": []
     },
     "output_type": "execute_result"
    },
    {
     "data": {
      "image/png": "[encoded data removed]",
      "text/plain": [
       "<Figure size 1080x360 with 1 Axes>"
      ]
     },
     "metadata": {
      "tags": []
     },
     "output_type": "display_data"
    }
   ],
   "source": [
    "temp=data2.groupby(['month'])['yield'].mean()\n",
    "temp.plot(figsize=(15,5), title= 'month wise yield for ing', fontsize=20)\n",
    "plt.title('month wise yield for ing',fontsize=20,color = 'B')\n",
    "plt.xlabel(\"month\",fontsize=20,color = 'B')\n",
    "plt.ylabel(\"yield\",fontsize=15,color = 'B')"
   ]
  },
  {
   "cell_type": "code",
   "execution_count": 0,
   "metadata": {
    "colab": {
     "base_uri": "https://localhost:8080/",
     "height": 387
    },
    "colab_type": "code",
    "id": "upQtLfRXTjJz",
    "outputId": "a491a0a5-434a-4020-f6f1-1f405e101efe"
   },
   "outputs": [
    {
     "data": {
      "text/plain": [
       "Text(0, 0.5, 'yield')"
      ]
     },
     "execution_count": 72,
     "metadata": {
      "tags": []
     },
     "output_type": "execute_result"
    },
    {
     "data": {
      "image/png": "[encoded data removed]",
      "text/plain": [
       "<Figure size 1080x360 with 1 Axes>"
      ]
     },
     "metadata": {
      "tags": []
     },
     "output_type": "display_data"
    }
   ],
   "source": [
    "fig, ax = plt.subplots(figsize=(15,5))\n",
    "data2.groupby(['month','ingredient_type']).mean()['yield'].unstack().plot(ax=ax)\n",
    "# Add title and axis names\n",
    "plt.title('Month wise ingredient yield')\n",
    "plt.xlabel(\"Month\")\n",
    "plt.ylabel(\"yield\")"
   ]
  },
  {
   "cell_type": "code",
   "execution_count": 0,
   "metadata": {
    "colab": {
     "base_uri": "https://localhost:8080/",
     "height": 711
    },
    "colab_type": "code",
    "id": "t6voMsAyFFII",
    "outputId": "4af6d86e-34f9-4aad-e1cb-1e55d241d9a6"
   },
   "outputs": [
    {
     "data": {
      "text/plain": [
       "<matplotlib.axes._subplots.AxesSubplot at 0x7f5e4d7e69e8>"
      ]
     },
     "execution_count": 18,
     "metadata": {
      "tags": []
     },
     "output_type": "execute_result"
    },
    {
     "data": {
      "image/png": "[encoded data removed]",
      "text/plain": [
       "<Figure size 1080x576 with 1 Axes>"
      ]
     },
     "metadata": {
      "tags": []
     },
     "output_type": "display_data"
    }
   ],
   "source": [
    "pd.DataFrame(data2.groupby(['farming_company','ingredient_type'])['yield'].count()).unstack().plot(kind = 'bar',figsize=(15,8),color =['red','yellow','blue','green'])\n"
   ]
  },
  {
   "cell_type": "code",
   "execution_count": 0,
   "metadata": {
    "colab": {
     "base_uri": "https://localhost:8080/",
     "height": 693
    },
    "colab_type": "code",
    "id": "OOWeKQ8YM8cL",
    "outputId": "9a7967a4-35ed-4bae-a996-43304a0a5252"
   },
   "outputs": [
    {
     "data": {
      "text/plain": [
       "(array([ 0,  1,  2,  3,  4,  5,  6,  7,  8,  9, 10, 11, 12, 13, 14, 15]),\n",
       " <a list of 16 Text xticklabel objects>)"
      ]
     },
     "execution_count": 38,
     "metadata": {
      "tags": []
     },
     "output_type": "execute_result"
    },
    {
     "data": {
      "image/png": "[encoded data removed]",
      "text/plain": [
       "<Figure size 1152x720 with 1 Axes>"
      ]
     },
     "metadata": {
      "tags": []
     },
     "output_type": "display_data"
    }
   ],
   "source": [
    "plt.figure(figsize = (16, 10))  \n",
    "sns.barplot(y = \"temp_obs\", x = \"deidentified_location\", data = data2)\n",
    "plt.xticks(rotation=30)"
   ]
  },
  {
   "cell_type": "code",
   "execution_count": 0,
   "metadata": {
    "colab": {
     "base_uri": "https://localhost:8080/",
     "height": 312
    },
    "colab_type": "code",
    "id": "hq14LXsJVvow",
    "outputId": "aa169ce2-a39e-4bb6-8593-4bd36fc9abaa"
   },
   "outputs": [
    {
     "data": {
      "text/plain": [
       "Text(0.5, 0, 'yield')"
      ]
     },
     "execution_count": 78,
     "metadata": {
      "tags": []
     },
     "output_type": "execute_result"
    },
    {
     "data": {
      "image/png": "[encoded data removed]",
      "text/plain": [
       "<Figure size 432x288 with 1 Axes>"
      ]
     },
     "metadata": {
      "tags": []
     },
     "output_type": "display_data"
    }
   ],
   "source": [
    "sns.kdeplot(data2['yield'].values).set_title(\"Distribution of yield\")\n",
    "plt.xlabel('yield')"
   ]
  },
  {
   "cell_type": "code",
   "execution_count": 0,
   "metadata": {
    "colab": {
     "base_uri": "https://localhost:8080/",
     "height": 302
    },
    "colab_type": "code",
    "id": "8Un8WR6hnuNr",
    "outputId": "b8366dc1-4866-4e18-e01c-47b8961f91c4"
   },
   "outputs": [
    {
     "data": {
      "text/plain": [
       "(0, 1000)"
      ]
     },
     "execution_count": 70,
     "metadata": {
      "tags": []
     },
     "output_type": "execute_result"
    },
    {
     "data": {
      "image/png": "[encoded data removed]",
      "text/plain": [
       "<Figure size 432x288 with 1 Axes>"
      ]
     },
     "metadata": {
      "tags": []
     },
     "output_type": "display_data"
    }
   ],
   "source": [
    "\n",
    "ax = sns.boxplot(x=data2[\"yield\"])\n",
    "plt.xlim(0,1000)"
   ]
  },
  {
   "cell_type": "code",
   "execution_count": 0,
   "metadata": {
    "colab": {
     "base_uri": "https://localhost:8080/",
     "height": 307
    },
    "colab_type": "code",
    "id": "W4q2I5WcV3xp",
    "outputId": "b3ce441a-4f02-4b41-82b1-76f0ac912eda"
   },
   "outputs": [
    {
     "data": {
      "text/plain": [
       "<matplotlib.axes._subplots.AxesSubplot at 0x7fbcd91029b0>"
      ]
     },
     "execution_count": 79,
     "metadata": {
      "tags": []
     },
     "output_type": "execute_result"
    },
    {
     "data": {
      "image/png": "[encoded data removed]",
      "text/plain": [
       "<Figure size 432x288 with 1 Axes>"
      ]
     },
     "metadata": {
      "tags": []
     },
     "output_type": "display_data"
    }
   ],
   "source": [
    "monthsyield=pd.DataFrame(data2.groupby(\"month\")[\"yield\"].sum())\n",
    "monthsyield=monthsyield.reset_index()\n",
    "sns.barplot(x=\"month\", y=\"yield\", data=monthsyield)"
   ]
  },
  {
   "cell_type": "markdown",
   "metadata": {
    "colab_type": "text",
    "id": "-GbCKvDax0dO"
   },
   "source": [
    "#Predict the yield for each farm during the given timestamps"
   ]
  },
  {
   "cell_type": "markdown",
   "metadata": {
    "colab_type": "text",
    "id": "a2-jg1VTwsTU"
   },
   "source": [
    "##Droping the columns which are having 30% and more"
   ]
  },
  {
   "cell_type": "code",
   "execution_count": 0,
   "metadata": {
    "colab": {},
    "colab_type": "code",
    "id": "A17JCYXcIRlJ"
   },
   "outputs": [],
   "source": [
    "#function for missing values in columns\n",
    "def missing_coldata(df):\n",
    "    missin_col = pd.DataFrame(round(df.isnull().sum().sort_values(ascending=False)/len(df.index)*100,1), \n",
    "                              columns=['% of missing value'])\n",
    "    missin_col['Count of Missing Values'] = df.isnull().sum()\n",
    "    return missin_col"
   ]
  },
  {
   "cell_type": "code",
   "execution_count": 6,
   "metadata": {
    "colab": {
     "base_uri": "https://localhost:8080/",
     "height": 391
    },
    "colab_type": "code",
    "id": "dlihFXwcIj9n",
    "outputId": "f01eaef6-519b-400f-825c-27e3812dbc12"
   },
   "outputs": [
    {
     "name": "stdout",
     "output_type": "stream",
     "text": [
      "                 % of missing value  Count of Missing Values\n",
      "yield                           0.0                        0\n",
      "ingredient_type                 0.0                        0\n",
      "farm_id                         0.0                        0\n",
      "date                            0.0                        0\n",
      "                            % of missing value  Count of Missing Values\n",
      "num_processing_plants                     75.5                     1094\n",
      "operations_commencing_year                53.4                      774\n",
      "deidentified_location                      0.0                        0\n",
      "farming_company                            0.0                        0\n",
      "farm_area                                  0.0                        0\n",
      "farm_id                                    0.0                        0\n",
      "                       % of missing value  Count of Missing Values\n",
      "cloudiness                           49.5                    69173\n",
      "precipitation                        36.0                    50289\n",
      "pressure_sea_level                    7.6                    10618\n",
      "wind_direction                        4.5                     6268\n",
      "wind_speed                            0.2                      304\n",
      "dew_temp                              0.1                      113\n",
      "temp_obs                              0.0                       55\n",
      "deidentified_location                 0.0                        0\n",
      "timestamp                             0.0                        0\n"
     ]
    }
   ],
   "source": [
    "print(missing_coldata(train_data))\n",
    "print(missing_coldata(farm_data))\n",
    "print(missing_coldata(train_weather))"
   ]
  },
  {
   "cell_type": "code",
   "execution_count": 7,
   "metadata": {
    "colab": {
     "base_uri": "https://localhost:8080/",
     "height": 272
    },
    "colab_type": "code",
    "id": "3rFRdhKrIjwD",
    "outputId": "8e2eed76-8fdb-4f36-b26b-dc30ad29c328"
   },
   "outputs": [
    {
     "name": "stdout",
     "output_type": "stream",
     "text": [
      "                 % of missing value  Count of Missing Values\n",
      "id                              0.0                        0\n",
      "ingredient_type                 0.0                        0\n",
      "farm_id                         0.0                        0\n",
      "date                            0.0                        0\n",
      "                       % of missing value  Count of Missing Values\n",
      "cloudiness                           49.7                    69065\n",
      "precipitation                        34.4                    47788\n",
      "pressure_sea_level                    7.8                    10883\n",
      "wind_direction                        4.4                     6134\n",
      "wind_speed                            0.2                      240\n",
      "dew_temp                              0.1                      184\n",
      "temp_obs                              0.0                       43\n",
      "deidentified_location                 0.0                        0\n",
      "timestamp                             0.0                        0\n"
     ]
    }
   ],
   "source": [
    "print(missing_coldata(test_data))\n",
    "print(missing_coldata(test_weather))"
   ]
  },
  {
   "cell_type": "code",
   "execution_count": 0,
   "metadata": {
    "colab": {},
    "colab_type": "code",
    "id": "yAciO52Awbbr"
   },
   "outputs": [],
   "source": [
    "#train_weather\n",
    "train_weather.drop([\"cloudiness\",\"precipitation\"],axis=1,inplace=True)\n",
    "\n",
    "#farm_data\n",
    "farm_data.drop([\"num_processing_plants\",\"operations_commencing_year\"],axis=1,inplace=True)"
   ]
  },
  {
   "cell_type": "code",
   "execution_count": 0,
   "metadata": {
    "colab": {},
    "colab_type": "code",
    "id": "ZRYeqaYuygqq"
   },
   "outputs": [],
   "source": [
    "#test_weather\n",
    "test_weather.drop([\"cloudiness\",\"precipitation\"],axis=1,inplace=True)"
   ]
  },
  {
   "cell_type": "code",
   "execution_count": 10,
   "metadata": {
    "colab": {
     "base_uri": "https://localhost:8080/",
     "height": 68
    },
    "colab_type": "code",
    "id": "UtbQlqYwpY-x",
    "outputId": "920124aa-66e6-4de9-8e05-886847f6d9b6"
   },
   "outputs": [
    {
     "data": {
      "text/plain": [
       "Index(['timestamp', 'deidentified_location', 'temp_obs', 'wind_direction',\n",
       "       'dew_temp', 'pressure_sea_level', 'wind_speed'],\n",
       "      dtype='object')"
      ]
     },
     "execution_count": 10,
     "metadata": {
      "tags": []
     },
     "output_type": "execute_result"
    }
   ],
   "source": [
    "test_weather.columns"
   ]
  },
  {
   "cell_type": "code",
   "execution_count": 11,
   "metadata": {
    "colab": {
     "base_uri": "https://localhost:8080/",
     "height": 34
    },
    "colab_type": "code",
    "id": "et7flj5VFJ0K",
    "outputId": "22b6dd05-4aa0-4934-d70d-bada43570753"
   },
   "outputs": [
    {
     "data": {
      "text/plain": [
       "Index(['date', 'farm_id', 'ingredient_type', 'yield'], dtype='object')"
      ]
     },
     "execution_count": 11,
     "metadata": {
      "tags": []
     },
     "output_type": "execute_result"
    }
   ],
   "source": [
    "train_data.columns"
   ]
  },
  {
   "cell_type": "markdown",
   "metadata": {
    "colab_type": "text",
    "id": "GSSb797hzknD"
   },
   "source": [
    "###checking the rows which are having Duplicates and Droping them"
   ]
  },
  {
   "cell_type": "code",
   "execution_count": 12,
   "metadata": {
    "colab": {
     "base_uri": "https://localhost:8080/",
     "height": 34
    },
    "colab_type": "code",
    "id": "MPkcKpo6JH7j",
    "outputId": "7e738ba4-2fd6-483e-d7b8-f94de2731f7d"
   },
   "outputs": [
    {
     "data": {
      "text/plain": [
       "(135568, 4)"
      ]
     },
     "execution_count": 12,
     "metadata": {
      "tags": []
     },
     "output_type": "execute_result"
    }
   ],
   "source": [
    "train_data[train_data.duplicated(subset=[\"date\",\"ingredient_type\",\"farm_id\"])].shape"
   ]
  },
  {
   "cell_type": "code",
   "execution_count": 13,
   "metadata": {
    "colab": {
     "base_uri": "https://localhost:8080/",
     "height": 204
    },
    "colab_type": "code",
    "id": "-N3K77cW9Sld",
    "outputId": "40fcab4f-5daf-4568-a252-ba4d592722ad"
   },
   "outputs": [
    {
     "data": {
      "text/html": [
       "<div>\n",
       "<style scoped>\n",
       "    .dataframe tbody tr th:only-of-type {\n",
       "        vertical-align: middle;\n",
       "    }\n",
       "\n",
       "    .dataframe tbody tr th {\n",
       "        vertical-align: top;\n",
       "    }\n",
       "\n",
       "    .dataframe thead th {\n",
       "        text-align: right;\n",
       "    }\n",
       "</style>\n",
       "<table border=\"1\" class=\"dataframe\">\n",
       "  <thead>\n",
       "    <tr style=\"text-align: right;\">\n",
       "      <th></th>\n",
       "      <th>date</th>\n",
       "      <th>farm_id</th>\n",
       "      <th>ingredient_type</th>\n",
       "      <th>yield</th>\n",
       "    </tr>\n",
       "  </thead>\n",
       "  <tbody>\n",
       "    <tr>\n",
       "      <th>1483</th>\n",
       "      <td>2016-01-01 00:00:00</td>\n",
       "      <td>fid_122174</td>\n",
       "      <td>ing_w</td>\n",
       "      <td>69.517</td>\n",
       "    </tr>\n",
       "    <tr>\n",
       "      <th>1598</th>\n",
       "      <td>2016-01-01 00:00:00</td>\n",
       "      <td>fid_122174</td>\n",
       "      <td>ing_w</td>\n",
       "      <td>39.519</td>\n",
       "    </tr>\n",
       "    <tr>\n",
       "      <th>695</th>\n",
       "      <td>2016-01-01 00:00:00</td>\n",
       "      <td>fid_18990</td>\n",
       "      <td>ing_w</td>\n",
       "      <td>129.790</td>\n",
       "    </tr>\n",
       "    <tr>\n",
       "      <th>747</th>\n",
       "      <td>2016-01-01 00:00:00</td>\n",
       "      <td>fid_18990</td>\n",
       "      <td>ing_w</td>\n",
       "      <td>354.413</td>\n",
       "    </tr>\n",
       "    <tr>\n",
       "      <th>669</th>\n",
       "      <td>2016-01-01 00:00:00</td>\n",
       "      <td>fid_26064</td>\n",
       "      <td>ing_w</td>\n",
       "      <td>7.770</td>\n",
       "    </tr>\n",
       "  </tbody>\n",
       "</table>\n",
       "</div>"
      ],
      "text/plain": [
       "                     date     farm_id ingredient_type    yield\n",
       "1483  2016-01-01 00:00:00  fid_122174           ing_w   69.517\n",
       "1598  2016-01-01 00:00:00  fid_122174           ing_w   39.519\n",
       "695   2016-01-01 00:00:00   fid_18990           ing_w  129.790\n",
       "747   2016-01-01 00:00:00   fid_18990           ing_w  354.413\n",
       "669   2016-01-01 00:00:00   fid_26064           ing_w    7.770"
      ]
     },
     "execution_count": 13,
     "metadata": {
      "tags": []
     },
     "output_type": "execute_result"
    }
   ],
   "source": [
    "train_data.loc[train_data.duplicated(subset=['date', 'farm_id', 'ingredient_type'],keep=False),:].sort_values(by = ['date','farm_id','ingredient_type']).head()"
   ]
  },
  {
   "cell_type": "code",
   "execution_count": 0,
   "metadata": {
    "colab": {},
    "colab_type": "code",
    "id": "-ndCHTSyE67K"
   },
   "outputs": [],
   "source": [
    "a=train_data.groupby([\"date\",\"ingredient_type\",\"farm_id\"])[\"yield\"].sum()"
   ]
  },
  {
   "cell_type": "code",
   "execution_count": 0,
   "metadata": {
    "colab": {},
    "colab_type": "code",
    "id": "8FvCxu1eFhWl"
   },
   "outputs": [],
   "source": [
    "a=pd.DataFrame(a)"
   ]
  },
  {
   "cell_type": "code",
   "execution_count": 0,
   "metadata": {
    "colab": {},
    "colab_type": "code",
    "id": "qYT0DXH0FXu8"
   },
   "outputs": [],
   "source": [
    "train_data.set_index([\"date\",\"ingredient_type\",\"farm_id\"],inplace=True)"
   ]
  },
  {
   "cell_type": "code",
   "execution_count": 0,
   "metadata": {
    "colab": {},
    "colab_type": "code",
    "id": "AG4HW72yFq-Y"
   },
   "outputs": [],
   "source": [
    "train_data.update(a,overwrite=True)"
   ]
  },
  {
   "cell_type": "code",
   "execution_count": 0,
   "metadata": {
    "colab": {},
    "colab_type": "code",
    "id": "ZmlXK3DWFzRh"
   },
   "outputs": [],
   "source": [
    "train_data.reset_index(inplace=True)"
   ]
  },
  {
   "cell_type": "code",
   "execution_count": 0,
   "metadata": {
    "colab": {},
    "colab_type": "code",
    "id": "63gHKW_UF9T-"
   },
   "outputs": [],
   "source": [
    "train_data.drop_duplicates(inplace=True)"
   ]
  },
  {
   "cell_type": "code",
   "execution_count": 20,
   "metadata": {
    "colab": {
     "base_uri": "https://localhost:8080/",
     "height": 34
    },
    "colab_type": "code",
    "id": "yUhGLjMdGD5S",
    "outputId": "dab830ae-d110-4fb3-df8f-e42ee84743db"
   },
   "outputs": [
    {
     "data": {
      "text/plain": [
       "(20080532, 4)"
      ]
     },
     "execution_count": 20,
     "metadata": {
      "tags": []
     },
     "output_type": "execute_result"
    }
   ],
   "source": [
    "train_data.shape"
   ]
  },
  {
   "cell_type": "code",
   "execution_count": 21,
   "metadata": {
    "colab": {
     "base_uri": "https://localhost:8080/",
     "height": 34
    },
    "colab_type": "code",
    "id": "P5YY_SgOKFWf",
    "outputId": "3e47b32f-fcb3-49ad-dac1-a99b1d2ee331"
   },
   "outputs": [
    {
     "data": {
      "text/plain": [
       "(15, 4)"
      ]
     },
     "execution_count": 21,
     "metadata": {
      "tags": []
     },
     "output_type": "execute_result"
    }
   ],
   "source": [
    "farm_data[farm_data.duplicated(subset=\"farm_id\")].shape"
   ]
  },
  {
   "cell_type": "code",
   "execution_count": 0,
   "metadata": {
    "colab": {},
    "colab_type": "code",
    "id": "14ZH7xuM1LHC"
   },
   "outputs": [],
   "source": [
    "#farm_data\n",
    "farm_data= farm_data.groupby('farm_id', group_keys=False).apply(lambda x: x.loc[x.farm_area.idxmax()])"
   ]
  },
  {
   "cell_type": "code",
   "execution_count": 0,
   "metadata": {
    "colab": {
     "base_uri": "https://localhost:8080/",
     "height": 235
    },
    "colab_type": "code",
    "id": "z6wu5IO69_On",
    "outputId": "39211828-318c-456b-e9d5-202a0b443785"
   },
   "outputs": [
    {
     "data": {
      "text/html": [
       "<div>\n",
       "<style scoped>\n",
       "    .dataframe tbody tr th:only-of-type {\n",
       "        vertical-align: middle;\n",
       "    }\n",
       "\n",
       "    .dataframe tbody tr th {\n",
       "        vertical-align: top;\n",
       "    }\n",
       "\n",
       "    .dataframe thead th {\n",
       "        text-align: right;\n",
       "    }\n",
       "</style>\n",
       "<table border=\"1\" class=\"dataframe\">\n",
       "  <thead>\n",
       "    <tr style=\"text-align: right;\">\n",
       "      <th></th>\n",
       "      <th>farm_id</th>\n",
       "      <th>farm_area</th>\n",
       "      <th>farming_company</th>\n",
       "      <th>deidentified_location</th>\n",
       "    </tr>\n",
       "    <tr>\n",
       "      <th>farm_id</th>\n",
       "      <th></th>\n",
       "      <th></th>\n",
       "      <th></th>\n",
       "      <th></th>\n",
       "    </tr>\n",
       "  </thead>\n",
       "  <tbody>\n",
       "    <tr>\n",
       "      <th>fid_100053</th>\n",
       "      <td>fid_100053</td>\n",
       "      <td>2043.866000</td>\n",
       "      <td>Del Monte Foods</td>\n",
       "      <td>location 5290</td>\n",
       "    </tr>\n",
       "    <tr>\n",
       "      <th>fid_100107</th>\n",
       "      <td>fid_100107</td>\n",
       "      <td>35416.574563</td>\n",
       "      <td>Del Monte Foods</td>\n",
       "      <td>location 2532</td>\n",
       "    </tr>\n",
       "    <tr>\n",
       "      <th>fid_100135</th>\n",
       "      <td>fid_100135</td>\n",
       "      <td>1432.564260</td>\n",
       "      <td>Dole Food Company</td>\n",
       "      <td>location 5290</td>\n",
       "    </tr>\n",
       "    <tr>\n",
       "      <th>fid_100249</th>\n",
       "      <td>fid_100249</td>\n",
       "      <td>941.571905</td>\n",
       "      <td>Wayne Farms</td>\n",
       "      <td>location 5489</td>\n",
       "    </tr>\n",
       "    <tr>\n",
       "      <th>fid_100303</th>\n",
       "      <td>fid_100303</td>\n",
       "      <td>3716.120000</td>\n",
       "      <td>Wayne Farms</td>\n",
       "      <td>location 5290</td>\n",
       "    </tr>\n",
       "  </tbody>\n",
       "</table>\n",
       "</div>"
      ],
      "text/plain": [
       "               farm_id     farm_area    farming_company deidentified_location\n",
       "farm_id                                                                      \n",
       "fid_100053  fid_100053   2043.866000    Del Monte Foods         location 5290\n",
       "fid_100107  fid_100107  35416.574563    Del Monte Foods         location 2532\n",
       "fid_100135  fid_100135   1432.564260  Dole Food Company         location 5290\n",
       "fid_100249  fid_100249    941.571905        Wayne Farms         location 5489\n",
       "fid_100303  fid_100303   3716.120000        Wayne Farms         location 5290"
      ]
     },
     "execution_count": 17,
     "metadata": {
      "tags": []
     },
     "output_type": "execute_result"
    }
   ],
   "source": [
    "farm_data.head()"
   ]
  },
  {
   "cell_type": "code",
   "execution_count": 0,
   "metadata": {
    "colab": {},
    "colab_type": "code",
    "id": "wruANmQw9xdm"
   },
   "outputs": [],
   "source": [
    "farm_data.reset_index(drop=True,inplace=True)"
   ]
  },
  {
   "cell_type": "code",
   "execution_count": 0,
   "metadata": {
    "colab": {
     "base_uri": "https://localhost:8080/",
     "height": 34
    },
    "colab_type": "code",
    "id": "FbwGqQK60Zv7",
    "outputId": "2b4b564f-ce38-429b-8830-497af954b586"
   },
   "outputs": [
    {
     "data": {
      "text/plain": [
       "(20080532, 4)"
      ]
     },
     "execution_count": 19,
     "metadata": {
      "tags": []
     },
     "output_type": "execute_result"
    }
   ],
   "source": [
    "train_data.shape"
   ]
  },
  {
   "cell_type": "code",
   "execution_count": 0,
   "metadata": {
    "colab": {
     "base_uri": "https://localhost:8080/",
     "height": 34
    },
    "colab_type": "code",
    "id": "Vh9CSTIF0kj9",
    "outputId": "266cd777-21a1-452e-994c-ae9aa927886b"
   },
   "outputs": [
    {
     "data": {
      "text/plain": [
       "(1434, 4)"
      ]
     },
     "execution_count": 20,
     "metadata": {
      "tags": []
     },
     "output_type": "execute_result"
    }
   ],
   "source": [
    "farm_data.shape"
   ]
  },
  {
   "cell_type": "markdown",
   "metadata": {
    "colab_type": "text",
    "id": "bYIEPZOP8xtC"
   },
   "source": [
    "##checking the NaN's and imputing them"
   ]
  },
  {
   "cell_type": "code",
   "execution_count": 0,
   "metadata": {
    "colab": {
     "base_uri": "https://localhost:8080/",
     "height": 323
    },
    "colab_type": "code",
    "id": "8hXJ4TOl3hKq",
    "outputId": "cce04d1d-859d-462f-c91c-dc6289503e74"
   },
   "outputs": [
    {
     "name": "stdout",
     "output_type": "stream",
     "text": [
      "                 % of missing value  Count of Missing Values\n",
      "yield                           0.0                        0\n",
      "farm_id                         0.0                        0\n",
      "ingredient_type                 0.0                        0\n",
      "date                            0.0                        0\n",
      "                       % of missing value  Count of Missing Values\n",
      "deidentified_location                 0.0                        0\n",
      "farming_company                       0.0                        0\n",
      "farm_area                             0.0                        0\n",
      "farm_id                               0.0                        0\n",
      "                       % of missing value  Count of Missing Values\n",
      "pressure_sea_level                    7.6                    10618\n",
      "wind_direction                        4.5                     6268\n",
      "wind_speed                            0.2                      304\n",
      "dew_temp                              0.1                      113\n",
      "temp_obs                              0.0                       55\n",
      "deidentified_location                 0.0                        0\n",
      "timestamp                             0.0                        0\n"
     ]
    }
   ],
   "source": [
    "print(missing_coldata(train_data))\n",
    "print(missing_coldata(farm_data))\n",
    "print(missing_coldata(train_weather))"
   ]
  },
  {
   "cell_type": "code",
   "execution_count": 0,
   "metadata": {
    "colab": {},
    "colab_type": "code",
    "id": "kRKgvAIzJ91R"
   },
   "outputs": [],
   "source": [
    "numcol=['temp_obs','wind_direction','dew_temp',\n",
    "       'pressure_sea_level','wind_speed']"
   ]
  },
  {
   "cell_type": "code",
   "execution_count": 0,
   "metadata": {
    "colab": {},
    "colab_type": "code",
    "id": "VPqq3kOJJ3qZ"
   },
   "outputs": [],
   "source": [
    "train_weather[numcol]=train_weather[numcol].interpolate(method=\"linear\",limit_direction=\"both\")"
   ]
  },
  {
   "cell_type": "markdown",
   "metadata": {
    "colab_type": "text",
    "id": "EXbfl-TrKuoK"
   },
   "source": [
    "##test data"
   ]
  },
  {
   "cell_type": "code",
   "execution_count": 0,
   "metadata": {
    "colab": {
     "base_uri": "https://localhost:8080/",
     "height": 238
    },
    "colab_type": "code",
    "id": "JibQrmCj3mAn",
    "outputId": "fa080cf6-0a5f-4239-fb1e-fdaa4a86b727"
   },
   "outputs": [
    {
     "name": "stdout",
     "output_type": "stream",
     "text": [
      "                 % of missing value  Count of Missing Values\n",
      "id                              0.0                        0\n",
      "ingredient_type                 0.0                        0\n",
      "farm_id                         0.0                        0\n",
      "date                            0.0                        0\n",
      "                       % of missing value  Count of Missing Values\n",
      "pressure_sea_level                    7.8                    10883\n",
      "wind_direction                        4.4                     6134\n",
      "wind_speed                            0.2                      240\n",
      "dew_temp                              0.1                      184\n",
      "temp_obs                              0.0                       43\n",
      "deidentified_location                 0.0                        0\n",
      "timestamp                             0.0                        0\n"
     ]
    }
   ],
   "source": [
    "print(missing_coldata(test_data))\n",
    "print(missing_coldata(test_weather))"
   ]
  },
  {
   "cell_type": "code",
   "execution_count": 0,
   "metadata": {
    "colab": {},
    "colab_type": "code",
    "id": "seZLGhKWKQ17"
   },
   "outputs": [],
   "source": [
    "numcol2=['temp_obs','wind_direction','dew_temp',\n",
    "       'pressure_sea_level','wind_speed']"
   ]
  },
  {
   "cell_type": "code",
   "execution_count": 0,
   "metadata": {
    "colab": {},
    "colab_type": "code",
    "id": "Sb_F2-uoKQu3"
   },
   "outputs": [],
   "source": [
    "test_weather[numcol2]=test_weather[numcol2].interpolate(method=\"linear\",limit_direction=\"both\")"
   ]
  },
  {
   "cell_type": "markdown",
   "metadata": {
    "colab_type": "text",
    "id": "Bq7C3ZG9_WUB"
   },
   "source": [
    "##Merging the train data"
   ]
  },
  {
   "cell_type": "code",
   "execution_count": 0,
   "metadata": {
    "colab": {},
    "colab_type": "code",
    "id": "N9lX5e2S36yI"
   },
   "outputs": [],
   "source": [
    "data=pd.merge(train_data,farm_data,on=\"farm_id\")"
   ]
  },
  {
   "cell_type": "code",
   "execution_count": 0,
   "metadata": {
    "colab": {},
    "colab_type": "code",
    "id": "h6ww08JILcTE"
   },
   "outputs": [],
   "source": [
    "train_weather.rename({'timestamp':\"date\"},axis=1,inplace=True)"
   ]
  },
  {
   "cell_type": "code",
   "execution_count": 0,
   "metadata": {
    "colab": {
     "base_uri": "https://localhost:8080/",
     "height": 204
    },
    "colab_type": "code",
    "id": "a8GyD9ctMlgt",
    "outputId": "debde56f-39cc-4a60-de26-baf64a8d0124"
   },
   "outputs": [
    {
     "data": {
      "text/html": [
       "<div>\n",
       "<style scoped>\n",
       "    .dataframe tbody tr th:only-of-type {\n",
       "        vertical-align: middle;\n",
       "    }\n",
       "\n",
       "    .dataframe tbody tr th {\n",
       "        vertical-align: top;\n",
       "    }\n",
       "\n",
       "    .dataframe thead th {\n",
       "        text-align: right;\n",
       "    }\n",
       "</style>\n",
       "<table border=\"1\" class=\"dataframe\">\n",
       "  <thead>\n",
       "    <tr style=\"text-align: right;\">\n",
       "      <th></th>\n",
       "      <th>date</th>\n",
       "      <th>deidentified_location</th>\n",
       "      <th>temp_obs</th>\n",
       "      <th>wind_direction</th>\n",
       "      <th>dew_temp</th>\n",
       "      <th>pressure_sea_level</th>\n",
       "      <th>wind_speed</th>\n",
       "    </tr>\n",
       "  </thead>\n",
       "  <tbody>\n",
       "    <tr>\n",
       "      <th>0</th>\n",
       "      <td>2016-01-01 00:00:00</td>\n",
       "      <td>location 7369</td>\n",
       "      <td>25.0</td>\n",
       "      <td>0.0</td>\n",
       "      <td>20.0</td>\n",
       "      <td>1019.7</td>\n",
       "      <td>0.0</td>\n",
       "    </tr>\n",
       "    <tr>\n",
       "      <th>1</th>\n",
       "      <td>2016-01-01 01:00:00</td>\n",
       "      <td>location 7369</td>\n",
       "      <td>24.4</td>\n",
       "      <td>70.0</td>\n",
       "      <td>21.1</td>\n",
       "      <td>1020.2</td>\n",
       "      <td>1.5</td>\n",
       "    </tr>\n",
       "    <tr>\n",
       "      <th>2</th>\n",
       "      <td>2016-01-01 02:00:00</td>\n",
       "      <td>location 7369</td>\n",
       "      <td>22.8</td>\n",
       "      <td>0.0</td>\n",
       "      <td>21.1</td>\n",
       "      <td>1020.2</td>\n",
       "      <td>0.0</td>\n",
       "    </tr>\n",
       "    <tr>\n",
       "      <th>3</th>\n",
       "      <td>2016-01-01 03:00:00</td>\n",
       "      <td>location 7369</td>\n",
       "      <td>21.1</td>\n",
       "      <td>0.0</td>\n",
       "      <td>20.6</td>\n",
       "      <td>1020.1</td>\n",
       "      <td>0.0</td>\n",
       "    </tr>\n",
       "    <tr>\n",
       "      <th>4</th>\n",
       "      <td>2016-01-01 04:00:00</td>\n",
       "      <td>location 7369</td>\n",
       "      <td>20.0</td>\n",
       "      <td>250.0</td>\n",
       "      <td>20.0</td>\n",
       "      <td>1020.0</td>\n",
       "      <td>2.6</td>\n",
       "    </tr>\n",
       "  </tbody>\n",
       "</table>\n",
       "</div>"
      ],
      "text/plain": [
       "                  date deidentified_location  ...  pressure_sea_level  wind_speed\n",
       "0  2016-01-01 00:00:00         location 7369  ...              1019.7         0.0\n",
       "1  2016-01-01 01:00:00         location 7369  ...              1020.2         1.5\n",
       "2  2016-01-01 02:00:00         location 7369  ...              1020.2         0.0\n",
       "3  2016-01-01 03:00:00         location 7369  ...              1020.1         0.0\n",
       "4  2016-01-01 04:00:00         location 7369  ...              1020.0         2.6\n",
       "\n",
       "[5 rows x 7 columns]"
      ]
     },
     "execution_count": 30,
     "metadata": {
      "tags": []
     },
     "output_type": "execute_result"
    }
   ],
   "source": [
    "train_weather.head()"
   ]
  },
  {
   "cell_type": "code",
   "execution_count": 0,
   "metadata": {
    "colab": {},
    "colab_type": "code",
    "id": "tPKPITea9iqt"
   },
   "outputs": [],
   "source": [
    "final_data1=pd.merge(data,train_weather,how=\"left\",on=[\"deidentified_location\",\"date\"])"
   ]
  },
  {
   "cell_type": "code",
   "execution_count": 0,
   "metadata": {
    "colab": {
     "base_uri": "https://localhost:8080/",
     "height": 34
    },
    "colab_type": "code",
    "id": "YxPXvkGp9nK7",
    "outputId": "0df23f45-b030-485a-b322-118bf6a1efb2"
   },
   "outputs": [
    {
     "data": {
      "text/plain": [
       "(20080532, 12)"
      ]
     },
     "execution_count": 32,
     "metadata": {
      "tags": []
     },
     "output_type": "execute_result"
    }
   ],
   "source": [
    "final_data1.shape"
   ]
  },
  {
   "cell_type": "code",
   "execution_count": 0,
   "metadata": {
    "colab": {
     "base_uri": "https://localhost:8080/",
     "height": 238
    },
    "colab_type": "code",
    "id": "KQEErFR7M6Fu",
    "outputId": "65aa38fc-edf8-4e8f-be33-e133a6c363f5"
   },
   "outputs": [
    {
     "data": {
      "text/plain": [
       "date                         0\n",
       "ingredient_type              0\n",
       "farm_id                      0\n",
       "yield                        0\n",
       "farm_area                    0\n",
       "farming_company              0\n",
       "deidentified_location        0\n",
       "temp_obs                 89921\n",
       "wind_direction           89921\n",
       "dew_temp                 89921\n",
       "pressure_sea_level       89921\n",
       "wind_speed               89921\n",
       "dtype: int64"
      ]
     },
     "execution_count": 33,
     "metadata": {
      "tags": []
     },
     "output_type": "execute_result"
    }
   ],
   "source": [
    "final_data1.isnull().sum()"
   ]
  },
  {
   "cell_type": "code",
   "execution_count": 0,
   "metadata": {
    "colab": {},
    "colab_type": "code",
    "id": "hgS7RwP6NT4b"
   },
   "outputs": [],
   "source": [
    "numcol3=['temp_obs','wind_direction','dew_temp',\n",
    "       'pressure_sea_level','wind_speed']"
   ]
  },
  {
   "cell_type": "code",
   "execution_count": 0,
   "metadata": {
    "colab": {},
    "colab_type": "code",
    "id": "Pat_uQe1NYXe"
   },
   "outputs": [],
   "source": [
    "final_data1[numcol3]=final_data1[numcol3].interpolate(method=\"linear\",limit_direction=\"both\")"
   ]
  },
  {
   "cell_type": "code",
   "execution_count": 0,
   "metadata": {
    "colab": {
     "base_uri": "https://localhost:8080/",
     "height": 238
    },
    "colab_type": "code",
    "id": "24A76GiINog3",
    "outputId": "bb27635e-ff0e-4e92-9f71-fb897f1b2ce8"
   },
   "outputs": [
    {
     "data": {
      "text/plain": [
       "date                     0\n",
       "ingredient_type          0\n",
       "farm_id                  0\n",
       "yield                    0\n",
       "farm_area                0\n",
       "farming_company          0\n",
       "deidentified_location    0\n",
       "temp_obs                 0\n",
       "wind_direction           0\n",
       "dew_temp                 0\n",
       "pressure_sea_level       0\n",
       "wind_speed               0\n",
       "dtype: int64"
      ]
     },
     "execution_count": 36,
     "metadata": {
      "tags": []
     },
     "output_type": "execute_result"
    }
   ],
   "source": [
    "final_data1.isnull().sum()"
   ]
  },
  {
   "cell_type": "markdown",
   "metadata": {
    "colab_type": "text",
    "id": "TWPoWUPB_id7"
   },
   "source": [
    "##Merging the test data"
   ]
  },
  {
   "cell_type": "code",
   "execution_count": 0,
   "metadata": {
    "colab": {},
    "colab_type": "code",
    "id": "dzz3zLnA_S1I"
   },
   "outputs": [],
   "source": [
    "data1=pd.merge(test_data,farm_data,on=\"farm_id\")"
   ]
  },
  {
   "cell_type": "code",
   "execution_count": 0,
   "metadata": {
    "colab": {
     "base_uri": "https://localhost:8080/",
     "height": 34
    },
    "colab_type": "code",
    "id": "cmu-YXGI_yKV",
    "outputId": "525b13d2-932e-4a86-82b5-55902ddc2418"
   },
   "outputs": [
    {
     "data": {
      "text/plain": [
       "(20848800, 7)"
      ]
     },
     "execution_count": 40,
     "metadata": {
      "tags": []
     },
     "output_type": "execute_result"
    }
   ],
   "source": [
    "data1.shape"
   ]
  },
  {
   "cell_type": "code",
   "execution_count": 0,
   "metadata": {
    "colab": {},
    "colab_type": "code",
    "id": "GHIMdrNPNsey"
   },
   "outputs": [],
   "source": [
    "test_weather.rename({'timestamp':\"date\"},axis=1,inplace=True)"
   ]
  },
  {
   "cell_type": "code",
   "execution_count": 0,
   "metadata": {
    "colab": {
     "base_uri": "https://localhost:8080/",
     "height": 204
    },
    "colab_type": "code",
    "id": "bxmoIQ9DODkz",
    "outputId": "caf69f40-2a6e-4da2-d969-bf89f95f05ee"
   },
   "outputs": [
    {
     "data": {
      "text/html": [
       "<div>\n",
       "<style scoped>\n",
       "    .dataframe tbody tr th:only-of-type {\n",
       "        vertical-align: middle;\n",
       "    }\n",
       "\n",
       "    .dataframe tbody tr th {\n",
       "        vertical-align: top;\n",
       "    }\n",
       "\n",
       "    .dataframe thead th {\n",
       "        text-align: right;\n",
       "    }\n",
       "</style>\n",
       "<table border=\"1\" class=\"dataframe\">\n",
       "  <thead>\n",
       "    <tr style=\"text-align: right;\">\n",
       "      <th></th>\n",
       "      <th>date</th>\n",
       "      <th>deidentified_location</th>\n",
       "      <th>temp_obs</th>\n",
       "      <th>wind_direction</th>\n",
       "      <th>dew_temp</th>\n",
       "      <th>pressure_sea_level</th>\n",
       "      <th>wind_speed</th>\n",
       "    </tr>\n",
       "  </thead>\n",
       "  <tbody>\n",
       "    <tr>\n",
       "      <th>0</th>\n",
       "      <td>2017-01-01 00:00:00</td>\n",
       "      <td>location 7369</td>\n",
       "      <td>17.8</td>\n",
       "      <td>100.0</td>\n",
       "      <td>11.7</td>\n",
       "      <td>1021.4</td>\n",
       "      <td>3.6</td>\n",
       "    </tr>\n",
       "    <tr>\n",
       "      <th>1</th>\n",
       "      <td>2017-01-01 01:00:00</td>\n",
       "      <td>location 7369</td>\n",
       "      <td>17.8</td>\n",
       "      <td>130.0</td>\n",
       "      <td>12.8</td>\n",
       "      <td>1022.0</td>\n",
       "      <td>3.1</td>\n",
       "    </tr>\n",
       "    <tr>\n",
       "      <th>2</th>\n",
       "      <td>2017-01-01 02:00:00</td>\n",
       "      <td>location 7369</td>\n",
       "      <td>16.1</td>\n",
       "      <td>140.0</td>\n",
       "      <td>12.8</td>\n",
       "      <td>1021.9</td>\n",
       "      <td>3.1</td>\n",
       "    </tr>\n",
       "    <tr>\n",
       "      <th>3</th>\n",
       "      <td>2017-01-01 03:00:00</td>\n",
       "      <td>location 7369</td>\n",
       "      <td>17.2</td>\n",
       "      <td>140.0</td>\n",
       "      <td>13.3</td>\n",
       "      <td>1022.2</td>\n",
       "      <td>3.1</td>\n",
       "    </tr>\n",
       "    <tr>\n",
       "      <th>4</th>\n",
       "      <td>2017-01-01 04:00:00</td>\n",
       "      <td>location 7369</td>\n",
       "      <td>16.7</td>\n",
       "      <td>130.0</td>\n",
       "      <td>13.3</td>\n",
       "      <td>1022.3</td>\n",
       "      <td>2.6</td>\n",
       "    </tr>\n",
       "  </tbody>\n",
       "</table>\n",
       "</div>"
      ],
      "text/plain": [
       "                  date deidentified_location  ...  pressure_sea_level  wind_speed\n",
       "0  2017-01-01 00:00:00         location 7369  ...              1021.4         3.6\n",
       "1  2017-01-01 01:00:00         location 7369  ...              1022.0         3.1\n",
       "2  2017-01-01 02:00:00         location 7369  ...              1021.9         3.1\n",
       "3  2017-01-01 03:00:00         location 7369  ...              1022.2         3.1\n",
       "4  2017-01-01 04:00:00         location 7369  ...              1022.3         2.6\n",
       "\n",
       "[5 rows x 7 columns]"
      ]
     },
     "execution_count": 42,
     "metadata": {
      "tags": []
     },
     "output_type": "execute_result"
    }
   ],
   "source": [
    "test_weather.head()"
   ]
  },
  {
   "cell_type": "code",
   "execution_count": 0,
   "metadata": {
    "colab": {},
    "colab_type": "code",
    "id": "z5RyxVjL_11x"
   },
   "outputs": [],
   "source": [
    "f_test_data1=pd.merge(data1,test_weather,how=\"left\",on=[\"deidentified_location\",\"date\"])"
   ]
  },
  {
   "cell_type": "code",
   "execution_count": 0,
   "metadata": {
    "colab": {
     "base_uri": "https://localhost:8080/",
     "height": 34
    },
    "colab_type": "code",
    "id": "-cSOkLAEAEtk",
    "outputId": "d20d201b-dcaf-456d-93a4-c95b6a7c534a"
   },
   "outputs": [
    {
     "data": {
      "text/plain": [
       "(20848800, 12)"
      ]
     },
     "execution_count": 44,
     "metadata": {
      "tags": []
     },
     "output_type": "execute_result"
    }
   ],
   "source": [
    "f_test_data1.shape"
   ]
  },
  {
   "cell_type": "code",
   "execution_count": 0,
   "metadata": {
    "colab": {
     "base_uri": "https://localhost:8080/",
     "height": 238
    },
    "colab_type": "code",
    "id": "_42sB89bYOaO",
    "outputId": "248fea7d-6ad2-4c87-8b5c-ddd16799e4d0"
   },
   "outputs": [
    {
     "data": {
      "text/plain": [
       "date                         0\n",
       "farm_id                      0\n",
       "ingredient_type              0\n",
       "id                           0\n",
       "farm_area                    0\n",
       "farming_company              0\n",
       "deidentified_location        0\n",
       "temp_obs                 96155\n",
       "wind_direction           96155\n",
       "dew_temp                 96155\n",
       "pressure_sea_level       96155\n",
       "wind_speed               96155\n",
       "dtype: int64"
      ]
     },
     "execution_count": 45,
     "metadata": {
      "tags": []
     },
     "output_type": "execute_result"
    }
   ],
   "source": [
    "f_test_data1.isnull().sum()"
   ]
  },
  {
   "cell_type": "code",
   "execution_count": 0,
   "metadata": {
    "colab": {},
    "colab_type": "code",
    "id": "fWWiw00oYa7i"
   },
   "outputs": [],
   "source": [
    "numcol4=['temp_obs','wind_direction','dew_temp',\n",
    "       'pressure_sea_level','wind_speed']"
   ]
  },
  {
   "cell_type": "code",
   "execution_count": 0,
   "metadata": {
    "colab": {},
    "colab_type": "code",
    "id": "lsk07wq0Ya31"
   },
   "outputs": [],
   "source": [
    "f_test_data1[numcol4]=f_test_data1[numcol4].interpolate(method=\"linear\",limit_direction=\"both\")"
   ]
  },
  {
   "cell_type": "code",
   "execution_count": 0,
   "metadata": {
    "colab": {
     "base_uri": "https://localhost:8080/",
     "height": 238
    },
    "colab_type": "code",
    "id": "JwD3njFHYauK",
    "outputId": "38f71cae-d559-4ce4-e08a-939e580c7f33"
   },
   "outputs": [
    {
     "data": {
      "text/plain": [
       "date                     0\n",
       "farm_id                  0\n",
       "ingredient_type          0\n",
       "id                       0\n",
       "farm_area                0\n",
       "farming_company          0\n",
       "deidentified_location    0\n",
       "temp_obs                 0\n",
       "wind_direction           0\n",
       "dew_temp                 0\n",
       "pressure_sea_level       0\n",
       "wind_speed               0\n",
       "dtype: int64"
      ]
     },
     "execution_count": 48,
     "metadata": {
      "tags": []
     },
     "output_type": "execute_result"
    }
   ],
   "source": [
    "f_test_data1.isnull().sum()"
   ]
  },
  {
   "cell_type": "markdown",
   "metadata": {
    "colab_type": "text",
    "id": "r-BMUJGFCvzC"
   },
   "source": [
    "##Excrating day,month and hour form date and time"
   ]
  },
  {
   "cell_type": "code",
   "execution_count": 0,
   "metadata": {
    "colab": {},
    "colab_type": "code",
    "id": "D-EOLzjNCvj4"
   },
   "outputs": [],
   "source": [
    "final_data1[\"day\"]=pd.DatetimeIndex(final_data1[\"date\"]).day\n",
    "final_data1[\"month\"]=pd.DatetimeIndex(final_data1[\"date\"]).month\n",
    "final_data1[\"hour\"]=pd.DatetimeIndex(final_data1[\"date\"]).hour\n",
    "final_data1[\"quarter\"]=pd.DatetimeIndex(final_data1[\"date\"]).quarter"
   ]
  },
  {
   "cell_type": "code",
   "execution_count": 0,
   "metadata": {
    "colab": {
     "base_uri": "https://localhost:8080/",
     "height": 34
    },
    "colab_type": "code",
    "id": "_0tYB_dkr2r3",
    "outputId": "0c1c211e-67e5-4ada-82ad-cb3ad11ab2e4"
   },
   "outputs": [
    {
     "data": {
      "text/plain": [
       "array([1, 2, 3, 4])"
      ]
     },
     "execution_count": 66,
     "metadata": {
      "tags": []
     },
     "output_type": "execute_result"
    }
   ],
   "source": [
    "final_data1[\"quarter\"].unique()"
   ]
  },
  {
   "cell_type": "code",
   "execution_count": 0,
   "metadata": {
    "colab": {},
    "colab_type": "code",
    "id": "gt7tPwv-Cvfv"
   },
   "outputs": [],
   "source": [
    "f_test_data1[\"day\"]=pd.DatetimeIndex(f_test_data1[\"date\"]).day\n",
    "f_test_data1[\"month\"]=pd.DatetimeIndex(f_test_data1[\"date\"]).month\n",
    "f_test_data1[\"hour\"]=pd.DatetimeIndex(f_test_data1[\"date\"]).hour\n",
    "f_test_data1[\"quarter\"]=pd.DatetimeIndex(f_test_data1[\"date\"]).quarter"
   ]
  },
  {
   "cell_type": "code",
   "execution_count": 0,
   "metadata": {
    "colab": {
     "base_uri": "https://localhost:8080/",
     "height": 34
    },
    "colab_type": "code",
    "id": "iZiKTWRpOhCA",
    "outputId": "b31204f2-bcaa-4d13-c534-a9c87e337214"
   },
   "outputs": [
    {
     "data": {
      "text/plain": [
       "array([1, 2, 3, 4])"
      ]
     },
     "execution_count": 67,
     "metadata": {
      "tags": []
     },
     "output_type": "execute_result"
    }
   ],
   "source": [
    "f_test_data1[\"quarter\"].unique()"
   ]
  },
  {
   "cell_type": "code",
   "execution_count": 0,
   "metadata": {
    "colab": {},
    "colab_type": "code",
    "id": "Ds3SCoeFIfTy"
   },
   "outputs": [],
   "source": [
    "final_data1.to_pickle(\"/content/drive/My Drive/final_data1.pickle\")"
   ]
  },
  {
   "cell_type": "code",
   "execution_count": 0,
   "metadata": {
    "colab": {},
    "colab_type": "code",
    "id": "ZGz2CLQvKwoA"
   },
   "outputs": [],
   "source": [
    "f_test_data1.to_pickle(\"/content/drive/My Drive/f_test_data1.pickle\")"
   ]
  },
  {
   "cell_type": "code",
   "execution_count": 0,
   "metadata": {
    "colab": {},
    "colab_type": "code",
    "id": "p7MAlH3m56DL"
   },
   "outputs": [],
   "source": [
    "final_data1=pd.read_pickle(\"/content/drive/My Drive/final_data1.pickle\")"
   ]
  },
  {
   "cell_type": "code",
   "execution_count": 0,
   "metadata": {
    "colab": {},
    "colab_type": "code",
    "id": "j35cfh0a55yg"
   },
   "outputs": [],
   "source": [
    "f_test_data1=pd.read_pickle(\"/content/drive/My Drive/f_test_data1.pickle\")"
   ]
  },
  {
   "cell_type": "markdown",
   "metadata": {
    "colab_type": "text",
    "id": "ERKbzYNXlgcO"
   },
   "source": [
    "## Droping the date and timestamp "
   ]
  },
  {
   "cell_type": "code",
   "execution_count": 0,
   "metadata": {
    "colab": {},
    "colab_type": "code",
    "id": "xVSnGuHqlZVw"
   },
   "outputs": [],
   "source": [
    "final_data1.drop([\"date\"],axis=1,inplace=True)"
   ]
  },
  {
   "cell_type": "code",
   "execution_count": 0,
   "metadata": {
    "colab": {},
    "colab_type": "code",
    "id": "7vDtKyWVlqja"
   },
   "outputs": [],
   "source": [
    "f_test_data1.drop([\"date\"],axis=1,inplace=True)"
   ]
  },
  {
   "cell_type": "code",
   "execution_count": 7,
   "metadata": {
    "colab": {
     "base_uri": "https://localhost:8080/",
     "height": 34
    },
    "colab_type": "code",
    "id": "777pXbMZt82b",
    "outputId": "3870f71e-50e4-4bf8-e5a1-0532e7f41aea"
   },
   "outputs": [
    {
     "data": {
      "text/plain": [
       "(20080532, 15)"
      ]
     },
     "execution_count": 7,
     "metadata": {
      "tags": []
     },
     "output_type": "execute_result"
    }
   ],
   "source": [
    "final_data1.shape"
   ]
  },
  {
   "cell_type": "code",
   "execution_count": 8,
   "metadata": {
    "colab": {
     "base_uri": "https://localhost:8080/",
     "height": 224
    },
    "colab_type": "code",
    "id": "gjSXt0ge2_hc",
    "outputId": "76118e91-f607-4388-bab2-51be56f84d5d"
   },
   "outputs": [
    {
     "data": {
      "text/html": [
       "<div>\n",
       "<style scoped>\n",
       "    .dataframe tbody tr th:only-of-type {\n",
       "        vertical-align: middle;\n",
       "    }\n",
       "\n",
       "    .dataframe tbody tr th {\n",
       "        vertical-align: top;\n",
       "    }\n",
       "\n",
       "    .dataframe thead th {\n",
       "        text-align: right;\n",
       "    }\n",
       "</style>\n",
       "<table border=\"1\" class=\"dataframe\">\n",
       "  <thead>\n",
       "    <tr style=\"text-align: right;\">\n",
       "      <th></th>\n",
       "      <th>ingredient_type</th>\n",
       "      <th>farm_id</th>\n",
       "      <th>yield</th>\n",
       "      <th>farm_area</th>\n",
       "      <th>farming_company</th>\n",
       "      <th>deidentified_location</th>\n",
       "      <th>temp_obs</th>\n",
       "      <th>wind_direction</th>\n",
       "      <th>dew_temp</th>\n",
       "      <th>pressure_sea_level</th>\n",
       "      <th>wind_speed</th>\n",
       "      <th>day</th>\n",
       "      <th>month</th>\n",
       "      <th>hour</th>\n",
       "      <th>quarter</th>\n",
       "    </tr>\n",
       "  </thead>\n",
       "  <tbody>\n",
       "    <tr>\n",
       "      <th>0</th>\n",
       "      <td>ing_w</td>\n",
       "      <td>fid_110884</td>\n",
       "      <td>0.0</td>\n",
       "      <td>690.455096</td>\n",
       "      <td>Obery Farms</td>\n",
       "      <td>location 7369</td>\n",
       "      <td>25.0</td>\n",
       "      <td>0.0</td>\n",
       "      <td>20.0</td>\n",
       "      <td>1019.7</td>\n",
       "      <td>0.0</td>\n",
       "      <td>1</td>\n",
       "      <td>1</td>\n",
       "      <td>0</td>\n",
       "      <td>1</td>\n",
       "    </tr>\n",
       "    <tr>\n",
       "      <th>1</th>\n",
       "      <td>ing_w</td>\n",
       "      <td>fid_110884</td>\n",
       "      <td>0.0</td>\n",
       "      <td>690.455096</td>\n",
       "      <td>Obery Farms</td>\n",
       "      <td>location 7369</td>\n",
       "      <td>24.4</td>\n",
       "      <td>70.0</td>\n",
       "      <td>21.1</td>\n",
       "      <td>1020.2</td>\n",
       "      <td>1.5</td>\n",
       "      <td>1</td>\n",
       "      <td>1</td>\n",
       "      <td>1</td>\n",
       "      <td>1</td>\n",
       "    </tr>\n",
       "    <tr>\n",
       "      <th>2</th>\n",
       "      <td>ing_w</td>\n",
       "      <td>fid_110884</td>\n",
       "      <td>0.0</td>\n",
       "      <td>690.455096</td>\n",
       "      <td>Obery Farms</td>\n",
       "      <td>location 7369</td>\n",
       "      <td>22.8</td>\n",
       "      <td>0.0</td>\n",
       "      <td>21.1</td>\n",
       "      <td>1020.2</td>\n",
       "      <td>0.0</td>\n",
       "      <td>1</td>\n",
       "      <td>1</td>\n",
       "      <td>2</td>\n",
       "      <td>1</td>\n",
       "    </tr>\n",
       "    <tr>\n",
       "      <th>3</th>\n",
       "      <td>ing_w</td>\n",
       "      <td>fid_110884</td>\n",
       "      <td>0.0</td>\n",
       "      <td>690.455096</td>\n",
       "      <td>Obery Farms</td>\n",
       "      <td>location 7369</td>\n",
       "      <td>21.1</td>\n",
       "      <td>0.0</td>\n",
       "      <td>20.6</td>\n",
       "      <td>1020.1</td>\n",
       "      <td>0.0</td>\n",
       "      <td>1</td>\n",
       "      <td>1</td>\n",
       "      <td>3</td>\n",
       "      <td>1</td>\n",
       "    </tr>\n",
       "    <tr>\n",
       "      <th>4</th>\n",
       "      <td>ing_w</td>\n",
       "      <td>fid_110884</td>\n",
       "      <td>0.0</td>\n",
       "      <td>690.455096</td>\n",
       "      <td>Obery Farms</td>\n",
       "      <td>location 7369</td>\n",
       "      <td>20.0</td>\n",
       "      <td>250.0</td>\n",
       "      <td>20.0</td>\n",
       "      <td>1020.0</td>\n",
       "      <td>2.6</td>\n",
       "      <td>1</td>\n",
       "      <td>1</td>\n",
       "      <td>4</td>\n",
       "      <td>1</td>\n",
       "    </tr>\n",
       "  </tbody>\n",
       "</table>\n",
       "</div>"
      ],
      "text/plain": [
       "  ingredient_type     farm_id  yield   farm_area  ... day month  hour  quarter\n",
       "0           ing_w  fid_110884    0.0  690.455096  ...   1     1     0        1\n",
       "1           ing_w  fid_110884    0.0  690.455096  ...   1     1     1        1\n",
       "2           ing_w  fid_110884    0.0  690.455096  ...   1     1     2        1\n",
       "3           ing_w  fid_110884    0.0  690.455096  ...   1     1     3        1\n",
       "4           ing_w  fid_110884    0.0  690.455096  ...   1     1     4        1\n",
       "\n",
       "[5 rows x 15 columns]"
      ]
     },
     "execution_count": 8,
     "metadata": {
      "tags": []
     },
     "output_type": "execute_result"
    }
   ],
   "source": [
    "final_data1.head()"
   ]
  },
  {
   "cell_type": "code",
   "execution_count": 9,
   "metadata": {
    "colab": {
     "base_uri": "https://localhost:8080/",
     "height": 34
    },
    "colab_type": "code",
    "id": "8QXqdIQGuE_O",
    "outputId": "4a4f035f-d0e4-4e73-d34f-41e65b375e9f"
   },
   "outputs": [
    {
     "data": {
      "text/plain": [
       "(20848800, 15)"
      ]
     },
     "execution_count": 9,
     "metadata": {
      "tags": []
     },
     "output_type": "execute_result"
    }
   ],
   "source": [
    "f_test_data1.shape"
   ]
  },
  {
   "cell_type": "markdown",
   "metadata": {
    "colab_type": "text",
    "id": "3_a5N5Crmlxp"
   },
   "source": [
    "##Data type converction for the data sets"
   ]
  },
  {
   "cell_type": "code",
   "execution_count": 0,
   "metadata": {
    "colab": {},
    "colab_type": "code",
    "id": "0nKLVlfomk72"
   },
   "outputs": [],
   "source": [
    "cat_cols=['farm_id', 'ingredient_type','farming_company', 'deidentified_location', 'month', 'day','hour']"
   ]
  },
  {
   "cell_type": "code",
   "execution_count": 0,
   "metadata": {
    "colab": {},
    "colab_type": "code",
    "id": "if3T3Uvymk48"
   },
   "outputs": [],
   "source": [
    "num_cols=final_data1.columns.difference(cat_cols)"
   ]
  },
  {
   "cell_type": "code",
   "execution_count": 0,
   "metadata": {
    "colab": {},
    "colab_type": "code",
    "id": "YXRiF_j2mk0n"
   },
   "outputs": [],
   "source": [
    "final_data1[cat_cols]=final_data1[cat_cols].apply(lambda x:x.astype(\"category\"))\n",
    "final_data1[num_cols]=final_data1[num_cols].apply(lambda x:x.astype(\"float\"))"
   ]
  },
  {
   "cell_type": "code",
   "execution_count": 0,
   "metadata": {
    "colab": {},
    "colab_type": "code",
    "id": "aF2ivYT3nl1Q"
   },
   "outputs": [],
   "source": [
    "cat_col=['farm_id', 'ingredient_type','farming_company', 'deidentified_location', 'month', 'day','hour']"
   ]
  },
  {
   "cell_type": "code",
   "execution_count": 0,
   "metadata": {
    "colab": {},
    "colab_type": "code",
    "id": "76soiOiFnlvx"
   },
   "outputs": [],
   "source": [
    "num_cols=f_test_data1.columns.difference(cat_col)"
   ]
  },
  {
   "cell_type": "code",
   "execution_count": 15,
   "metadata": {
    "colab": {
     "base_uri": "https://localhost:8080/",
     "height": 68
    },
    "colab_type": "code",
    "id": "e_3zuuB1ovjh",
    "outputId": "14d87b6e-93f9-464d-e1e1-f0554b351f5b"
   },
   "outputs": [
    {
     "data": {
      "text/plain": [
       "Index(['dew_temp', 'farm_area', 'id', 'pressure_sea_level', 'quarter',\n",
       "       'temp_obs', 'wind_direction', 'wind_speed'],\n",
       "      dtype='object')"
      ]
     },
     "execution_count": 15,
     "metadata": {
      "tags": []
     },
     "output_type": "execute_result"
    }
   ],
   "source": [
    "num_cols"
   ]
  },
  {
   "cell_type": "code",
   "execution_count": 0,
   "metadata": {
    "colab": {},
    "colab_type": "code",
    "id": "fV9WV8TTolG0"
   },
   "outputs": [],
   "source": [
    "f_test_data1[cat_cols]=f_test_data1[cat_cols].apply(lambda x:x.astype(\"category\"))\n",
    "f_test_data1[num_cols]=f_test_data1[num_cols].apply(lambda x:x.astype(\"float\"))"
   ]
  },
  {
   "cell_type": "code",
   "execution_count": 17,
   "metadata": {
    "colab": {
     "base_uri": "https://localhost:8080/",
     "height": 289
    },
    "colab_type": "code",
    "id": "5ytWRyj1nlo1",
    "outputId": "d6d4ecb9-eff0-485f-e036-c81fdfdb43ae"
   },
   "outputs": [
    {
     "data": {
      "text/plain": [
       "ingredient_type          category\n",
       "farm_id                  category\n",
       "yield                     float64\n",
       "farm_area                 float64\n",
       "farming_company          category\n",
       "deidentified_location    category\n",
       "temp_obs                  float64\n",
       "wind_direction            float64\n",
       "dew_temp                  float64\n",
       "pressure_sea_level        float64\n",
       "wind_speed                float64\n",
       "day                      category\n",
       "month                    category\n",
       "hour                     category\n",
       "quarter                   float64\n",
       "dtype: object"
      ]
     },
     "execution_count": 17,
     "metadata": {
      "tags": []
     },
     "output_type": "execute_result"
    }
   ],
   "source": [
    "final_data1.dtypes"
   ]
  },
  {
   "cell_type": "code",
   "execution_count": 18,
   "metadata": {
    "colab": {
     "base_uri": "https://localhost:8080/",
     "height": 289
    },
    "colab_type": "code",
    "id": "Gm5XwzXdpNzn",
    "outputId": "3492de88-6adb-4331-a2e0-a061329b00a2"
   },
   "outputs": [
    {
     "data": {
      "text/plain": [
       "farm_id                  category\n",
       "ingredient_type          category\n",
       "id                        float64\n",
       "farm_area                 float64\n",
       "farming_company          category\n",
       "deidentified_location    category\n",
       "temp_obs                  float64\n",
       "wind_direction            float64\n",
       "dew_temp                  float64\n",
       "pressure_sea_level        float64\n",
       "wind_speed                float64\n",
       "day                      category\n",
       "month                    category\n",
       "hour                     category\n",
       "quarter                   float64\n",
       "dtype: object"
      ]
     },
     "execution_count": 18,
     "metadata": {
      "tags": []
     },
     "output_type": "execute_result"
    }
   ],
   "source": [
    "f_test_data1.dtypes"
   ]
  },
  {
   "cell_type": "markdown",
   "metadata": {
    "colab_type": "text",
    "id": "DxX8-xiFuo-F"
   },
   "source": [
    "##label encoding for the categorical columns"
   ]
  },
  {
   "cell_type": "code",
   "execution_count": 0,
   "metadata": {
    "colab": {},
    "colab_type": "code",
    "id": "fJTma3UrxZJl"
   },
   "outputs": [],
   "source": [
    "from sklearn import preprocessing"
   ]
  },
  {
   "cell_type": "code",
   "execution_count": 21,
   "metadata": {
    "colab": {
     "base_uri": "https://localhost:8080/",
     "height": 34
    },
    "colab_type": "code",
    "id": "Jvr_gcblyXCX",
    "outputId": "c0f338b0-74f9-4122-c10c-46d5b11b7823"
   },
   "outputs": [
    {
     "data": {
      "text/plain": [
       "LabelEncoder()"
      ]
     },
     "execution_count": 21,
     "metadata": {
      "tags": []
     },
     "output_type": "execute_result"
    }
   ],
   "source": [
    "# label_encoder object knows how to understand word labels.\n",
    "\n",
    "label_encoder1 = preprocessing.LabelEncoder()\n",
    "label_encoder2 = preprocessing.LabelEncoder()\n",
    "label_encoder3 = preprocessing.LabelEncoder()\n",
    "\n",
    "# Encode labels in column target.\n",
    "\n",
    "label_encoder1.fit(final_data1['farming_company'])\n",
    "label_encoder2.fit(final_data1['deidentified_location'])\n",
    "label_encoder3.fit(final_data1['farm_id'])\n"
   ]
  },
  {
   "cell_type": "code",
   "execution_count": 0,
   "metadata": {
    "colab": {},
    "colab_type": "code",
    "id": "BY_hfVvLyhjm"
   },
   "outputs": [],
   "source": [
    "final_data1['farming_company']=label_encoder1.transform(final_data1['farming_company'])\n",
    "final_data1['deidentified_location'] = label_encoder2.transform(final_data1['deidentified_location'])\n",
    "final_data1['farm_id'] = label_encoder3.transform(final_data1['farm_id'])\n"
   ]
  },
  {
   "cell_type": "code",
   "execution_count": 0,
   "metadata": {
    "colab": {},
    "colab_type": "code",
    "id": "xpB2GI4cyuFf"
   },
   "outputs": [],
   "source": [
    "f_test_data1['farming_company']=label_encoder1.transform(f_test_data1['farming_company'])\n",
    "f_test_data1['deidentified_location'] = label_encoder2.transform(f_test_data1['deidentified_location'])\n",
    "f_test_data1['farm_id'] = label_encoder3.transform(f_test_data1['farm_id'])\n"
   ]
  },
  {
   "cell_type": "code",
   "execution_count": 24,
   "metadata": {
    "colab": {
     "base_uri": "https://localhost:8080/",
     "height": 85
    },
    "colab_type": "code",
    "id": "p2-8KqBkRdSS",
    "outputId": "5d5bb3f6-14d0-45ef-fe9c-97b3df8637c0"
   },
   "outputs": [
    {
     "data": {
      "text/plain": [
       "Index(['farm_id', 'ingredient_type', 'id', 'farm_area', 'farming_company',\n",
       "       'deidentified_location', 'temp_obs', 'wind_direction', 'dew_temp',\n",
       "       'pressure_sea_level', 'wind_speed', 'day', 'month', 'hour', 'quarter'],\n",
       "      dtype='object')"
      ]
     },
     "execution_count": 24,
     "metadata": {
      "tags": []
     },
     "output_type": "execute_result"
    }
   ],
   "source": [
    "f_test_data1.columns"
   ]
  },
  {
   "cell_type": "markdown",
   "metadata": {
    "colab_type": "text",
    "id": "epTPanQUza5d"
   },
   "source": [
    "##Dummification\n"
   ]
  },
  {
   "cell_type": "code",
   "execution_count": 0,
   "metadata": {
    "colab": {},
    "colab_type": "code",
    "id": "qv8VyGttvNH-"
   },
   "outputs": [],
   "source": [
    "cat_cols2=[\"ingredient_type\"]"
   ]
  },
  {
   "cell_type": "code",
   "execution_count": 0,
   "metadata": {
    "colab": {},
    "colab_type": "code",
    "id": "HG99hRjdvcr9"
   },
   "outputs": [],
   "source": [
    "#creating Dummies for categorical columns\n",
    "final_data1=pd.get_dummies(final_data1,columns=cat_cols2)"
   ]
  },
  {
   "cell_type": "code",
   "execution_count": 0,
   "metadata": {
    "colab": {},
    "colab_type": "code",
    "id": "OypBy2JQvhVz"
   },
   "outputs": [],
   "source": [
    "#creating Dummies for categorical columns\n",
    "f_test_data1=pd.get_dummies(f_test_data1,columns=cat_cols2)"
   ]
  },
  {
   "cell_type": "code",
   "execution_count": 28,
   "metadata": {
    "colab": {
     "base_uri": "https://localhost:8080/",
     "height": 340
    },
    "colab_type": "code",
    "id": "hQEdxvj_vphS",
    "outputId": "84446260-fb43-47a5-da03-b5221b10ccf5"
   },
   "outputs": [
    {
     "data": {
      "text/plain": [
       "farm_id                     int64\n",
       "yield                     float64\n",
       "farm_area                 float64\n",
       "farming_company             int64\n",
       "deidentified_location       int64\n",
       "temp_obs                  float64\n",
       "wind_direction            float64\n",
       "dew_temp                  float64\n",
       "pressure_sea_level        float64\n",
       "wind_speed                float64\n",
       "day                      category\n",
       "month                    category\n",
       "hour                     category\n",
       "quarter                   float64\n",
       "ingredient_type_ing_w       uint8\n",
       "ingredient_type_ing_x       uint8\n",
       "ingredient_type_ing_y       uint8\n",
       "ingredient_type_ing_z       uint8\n",
       "dtype: object"
      ]
     },
     "execution_count": 28,
     "metadata": {
      "tags": []
     },
     "output_type": "execute_result"
    }
   ],
   "source": [
    "final_data1.dtypes"
   ]
  },
  {
   "cell_type": "code",
   "execution_count": 29,
   "metadata": {
    "colab": {
     "base_uri": "https://localhost:8080/",
     "height": 340
    },
    "colab_type": "code",
    "id": "89zoXHdlvsbD",
    "outputId": "6a32670a-9fb8-44ee-a9ba-664abeaab079"
   },
   "outputs": [
    {
     "data": {
      "text/plain": [
       "farm_id                     int64\n",
       "id                        float64\n",
       "farm_area                 float64\n",
       "farming_company             int64\n",
       "deidentified_location       int64\n",
       "temp_obs                  float64\n",
       "wind_direction            float64\n",
       "dew_temp                  float64\n",
       "pressure_sea_level        float64\n",
       "wind_speed                float64\n",
       "day                      category\n",
       "month                    category\n",
       "hour                     category\n",
       "quarter                   float64\n",
       "ingredient_type_ing_w       uint8\n",
       "ingredient_type_ing_x       uint8\n",
       "ingredient_type_ing_y       uint8\n",
       "ingredient_type_ing_z       uint8\n",
       "dtype: object"
      ]
     },
     "execution_count": 29,
     "metadata": {
      "tags": []
     },
     "output_type": "execute_result"
    }
   ],
   "source": [
    "f_test_data1.dtypes"
   ]
  },
  {
   "cell_type": "code",
   "execution_count": 30,
   "metadata": {
    "colab": {
     "base_uri": "https://localhost:8080/",
     "height": 100
    },
    "colab_type": "code",
    "id": "LksyBpeVxvdI",
    "outputId": "e0ac6ce5-f49a-4b47-c017-17a7f7f8cb55"
   },
   "outputs": [
    {
     "data": {
      "text/html": [
       "<div>\n",
       "<style scoped>\n",
       "    .dataframe tbody tr th:only-of-type {\n",
       "        vertical-align: middle;\n",
       "    }\n",
       "\n",
       "    .dataframe tbody tr th {\n",
       "        vertical-align: top;\n",
       "    }\n",
       "\n",
       "    .dataframe thead th {\n",
       "        text-align: right;\n",
       "    }\n",
       "</style>\n",
       "<table border=\"1\" class=\"dataframe\">\n",
       "  <thead>\n",
       "    <tr style=\"text-align: right;\">\n",
       "      <th></th>\n",
       "      <th>farm_id</th>\n",
       "      <th>yield</th>\n",
       "      <th>farm_area</th>\n",
       "      <th>farming_company</th>\n",
       "      <th>deidentified_location</th>\n",
       "      <th>temp_obs</th>\n",
       "      <th>wind_direction</th>\n",
       "      <th>dew_temp</th>\n",
       "      <th>pressure_sea_level</th>\n",
       "      <th>wind_speed</th>\n",
       "      <th>day</th>\n",
       "      <th>month</th>\n",
       "      <th>hour</th>\n",
       "      <th>quarter</th>\n",
       "      <th>ingredient_type_ing_w</th>\n",
       "      <th>ingredient_type_ing_x</th>\n",
       "      <th>ingredient_type_ing_y</th>\n",
       "      <th>ingredient_type_ing_z</th>\n",
       "    </tr>\n",
       "  </thead>\n",
       "  <tbody>\n",
       "    <tr>\n",
       "      <th>0</th>\n",
       "      <td>142</td>\n",
       "      <td>0.0</td>\n",
       "      <td>690.455096</td>\n",
       "      <td>8</td>\n",
       "      <td>12</td>\n",
       "      <td>25.0</td>\n",
       "      <td>0.0</td>\n",
       "      <td>20.0</td>\n",
       "      <td>1019.7</td>\n",
       "      <td>0.0</td>\n",
       "      <td>1</td>\n",
       "      <td>1</td>\n",
       "      <td>0</td>\n",
       "      <td>1.0</td>\n",
       "      <td>1</td>\n",
       "      <td>0</td>\n",
       "      <td>0</td>\n",
       "      <td>0</td>\n",
       "    </tr>\n",
       "  </tbody>\n",
       "</table>\n",
       "</div>"
      ],
      "text/plain": [
       "   farm_id  yield  ...  ingredient_type_ing_y  ingredient_type_ing_z\n",
       "0      142    0.0  ...                      0                      0\n",
       "\n",
       "[1 rows x 18 columns]"
      ]
     },
     "execution_count": 30,
     "metadata": {
      "tags": []
     },
     "output_type": "execute_result"
    }
   ],
   "source": [
    "final_data1.head(1)"
   ]
  },
  {
   "cell_type": "code",
   "execution_count": 31,
   "metadata": {
    "colab": {
     "base_uri": "https://localhost:8080/",
     "height": 100
    },
    "colab_type": "code",
    "id": "YjNfuONKx5jj",
    "outputId": "e7b11827-83aa-4888-e03d-b253ad5e6934"
   },
   "outputs": [
    {
     "data": {
      "text/html": [
       "<div>\n",
       "<style scoped>\n",
       "    .dataframe tbody tr th:only-of-type {\n",
       "        vertical-align: middle;\n",
       "    }\n",
       "\n",
       "    .dataframe tbody tr th {\n",
       "        vertical-align: top;\n",
       "    }\n",
       "\n",
       "    .dataframe thead th {\n",
       "        text-align: right;\n",
       "    }\n",
       "</style>\n",
       "<table border=\"1\" class=\"dataframe\">\n",
       "  <thead>\n",
       "    <tr style=\"text-align: right;\">\n",
       "      <th></th>\n",
       "      <th>farm_id</th>\n",
       "      <th>id</th>\n",
       "      <th>farm_area</th>\n",
       "      <th>farming_company</th>\n",
       "      <th>deidentified_location</th>\n",
       "      <th>temp_obs</th>\n",
       "      <th>wind_direction</th>\n",
       "      <th>dew_temp</th>\n",
       "      <th>pressure_sea_level</th>\n",
       "      <th>wind_speed</th>\n",
       "      <th>day</th>\n",
       "      <th>month</th>\n",
       "      <th>hour</th>\n",
       "      <th>quarter</th>\n",
       "      <th>ingredient_type_ing_w</th>\n",
       "      <th>ingredient_type_ing_x</th>\n",
       "      <th>ingredient_type_ing_y</th>\n",
       "      <th>ingredient_type_ing_z</th>\n",
       "    </tr>\n",
       "  </thead>\n",
       "  <tbody>\n",
       "    <tr>\n",
       "      <th>0</th>\n",
       "      <td>142</td>\n",
       "      <td>0.0</td>\n",
       "      <td>690.455096</td>\n",
       "      <td>8</td>\n",
       "      <td>12</td>\n",
       "      <td>17.8</td>\n",
       "      <td>100.0</td>\n",
       "      <td>11.7</td>\n",
       "      <td>1021.4</td>\n",
       "      <td>3.6</td>\n",
       "      <td>1</td>\n",
       "      <td>1</td>\n",
       "      <td>0</td>\n",
       "      <td>1.0</td>\n",
       "      <td>1</td>\n",
       "      <td>0</td>\n",
       "      <td>0</td>\n",
       "      <td>0</td>\n",
       "    </tr>\n",
       "  </tbody>\n",
       "</table>\n",
       "</div>"
      ],
      "text/plain": [
       "   farm_id   id  ...  ingredient_type_ing_y  ingredient_type_ing_z\n",
       "0      142  0.0  ...                      0                      0\n",
       "\n",
       "[1 rows x 18 columns]"
      ]
     },
     "execution_count": 31,
     "metadata": {
      "tags": []
     },
     "output_type": "execute_result"
    }
   ],
   "source": [
    "\n",
    "f_test_data1.head(1)"
   ]
  },
  {
   "cell_type": "code",
   "execution_count": 32,
   "metadata": {
    "colab": {
     "base_uri": "https://localhost:8080/",
     "height": 34
    },
    "colab_type": "code",
    "id": "_C4TXZxdpAqy",
    "outputId": "9edb255a-4a04-48d3-bab6-055431b90157"
   },
   "outputs": [
    {
     "data": {
      "text/plain": [
       "(20080532, 18)"
      ]
     },
     "execution_count": 32,
     "metadata": {
      "tags": []
     },
     "output_type": "execute_result"
    }
   ],
   "source": [
    "final_data1.shape"
   ]
  },
  {
   "cell_type": "code",
   "execution_count": 0,
   "metadata": {
    "colab": {},
    "colab_type": "code",
    "id": "SiqTc9dpca_3"
   },
   "outputs": [],
   "source": [
    "from sklearn.model_selection import train_test_split\n",
    "X = final_data1.drop('yield',axis = 1)\n",
    "y = final_data1['yield']\n",
    "X_train, X_val, y_train, y_val = train_test_split(X, y, test_size=0.20, random_state=1)"
   ]
  },
  {
   "cell_type": "markdown",
   "metadata": {
    "colab_type": "text",
    "id": "A_tE71JQd_Df"
   },
   "source": [
    "##.Multiple Linear regression"
   ]
  },
  {
   "cell_type": "code",
   "execution_count": 172,
   "metadata": {
    "colab": {
     "base_uri": "https://localhost:8080/",
     "height": 34
    },
    "colab_type": "code",
    "id": "fJeMuTAhcDKn",
    "outputId": "4bc855c6-6054-423c-9b99-22f6785e65f0"
   },
   "outputs": [
    {
     "data": {
      "text/plain": [
       "LinearRegression(copy_X=True, fit_intercept=True, n_jobs=None, normalize=False)"
      ]
     },
     "execution_count": 172,
     "metadata": {
      "tags": []
     },
     "output_type": "execute_result"
    }
   ],
   "source": [
    "from sklearn.linear_model import LinearRegression\n",
    "from sklearn import metrics\n",
    "\n",
    "lin_regressor = LinearRegression()\n",
    "lin_regressor.fit(X_train, y_train)"
   ]
  },
  {
   "cell_type": "code",
   "execution_count": 0,
   "metadata": {
    "colab": {},
    "colab_type": "code",
    "id": "VXFzHl89dl_l"
   },
   "outputs": [],
   "source": [
    "# function for calculating the rmse and mape\n",
    "import numpy as np\n",
    "from sklearn import metrics\n",
    "def rmse(train_actual,train_prediction,test_actual,test_prediction):\n",
    "    print('train')\n",
    "    print('rmse: ',np.sqrt(metrics.mean_squared_error(train_actual, train_prediction)))\n",
    "    \n",
    "    print('val')\n",
    "    print('rmse: ',np.sqrt(metrics.mean_squared_error(test_actual, test_prediction)))"
   ]
  },
  {
   "cell_type": "code",
   "execution_count": 174,
   "metadata": {
    "colab": {
     "base_uri": "https://localhost:8080/",
     "height": 85
    },
    "colab_type": "code",
    "id": "7Z7iNaaUdnqf",
    "outputId": "441f45d6-c6e7-48dc-a51c-738b4d6e49ef"
   },
   "outputs": [
    {
     "name": "stdout",
     "output_type": "stream",
     "text": [
      "train\n",
      "rmse:  152808.44868423959\n",
      "val\n",
      "rmse:  156827.9920920721\n"
     ]
    }
   ],
   "source": [
    "rmse(y_train,lin_regressor.predict(X_train),y_val,lin_regressor.predict(X_val))"
   ]
  },
  {
   "cell_type": "markdown",
   "metadata": {
    "colab_type": "text",
    "id": "uW34QqGcdzD_"
   },
   "source": [
    "##Removing the outliers from the target variable"
   ]
  },
  {
   "cell_type": "code",
   "execution_count": 0,
   "metadata": {
    "colab": {},
    "colab_type": "code",
    "id": "9Yw3EUgqrMdX"
   },
   "outputs": [],
   "source": [
    "from scipy import stats\n",
    "import numpy as np\n",
    "z = np.abs(stats.zscore(final_data1[\"yield\"]))\n",
    "print(z)"
   ]
  },
  {
   "cell_type": "code",
   "execution_count": 0,
   "metadata": {
    "colab": {},
    "colab_type": "code",
    "id": "vELA5Tc1rMaZ"
   },
   "outputs": [],
   "source": [
    "\n",
    "final_data1= final_data1[(z < 1.96)]\n"
   ]
  },
  {
   "cell_type": "code",
   "execution_count": 124,
   "metadata": {
    "colab": {
     "base_uri": "https://localhost:8080/",
     "height": 34
    },
    "colab_type": "code",
    "id": "XLS_kzUP4MbJ",
    "outputId": "4286a101-87ed-4ac8-ec9c-59fe16847b58"
   },
   "outputs": [
    {
     "data": {
      "text/plain": [
       "(20848800, 18)"
      ]
     },
     "execution_count": 124,
     "metadata": {
      "tags": []
     },
     "output_type": "execute_result"
    }
   ],
   "source": [
    "f_test_data1.shape"
   ]
  },
  {
   "cell_type": "markdown",
   "metadata": {
    "colab_type": "text",
    "id": "O6T5_OZKxfR0"
   },
   "source": [
    "##Model Building "
   ]
  },
  {
   "cell_type": "code",
   "execution_count": 0,
   "metadata": {
    "colab": {},
    "colab_type": "code",
    "id": "LPncavMrwxRJ"
   },
   "outputs": [],
   "source": [
    "from sklearn.model_selection import train_test_split\n",
    "X = final_data1.drop('yield',axis = 1)\n",
    "y = final_data1['yield']\n",
    "X_train, X_val, y_train, y_val = train_test_split(X, y, test_size=0.20, random_state=1)"
   ]
  },
  {
   "cell_type": "markdown",
   "metadata": {
    "colab_type": "text",
    "id": "dCms06Yfy9ok"
   },
   "source": [
    "#### 1.Multiple Linear regression"
   ]
  },
  {
   "cell_type": "code",
   "execution_count": 0,
   "metadata": {
    "colab": {
     "base_uri": "https://localhost:8080/",
     "height": 34
    },
    "colab_type": "code",
    "id": "pcPmar6vyK4s",
    "outputId": "cee9772d-9f51-4c57-e0cb-2b57f2e447c4"
   },
   "outputs": [
    {
     "data": {
      "text/plain": [
       "LinearRegression(copy_X=True, fit_intercept=True, n_jobs=None, normalize=False)"
      ]
     },
     "execution_count": 73,
     "metadata": {
      "tags": []
     },
     "output_type": "execute_result"
    }
   ],
   "source": [
    "from sklearn.linear_model import LinearRegression\n",
    "from sklearn import metrics\n",
    "\n",
    "lin_regressor = LinearRegression()\n",
    "lin_regressor.fit(X_train, y_train)"
   ]
  },
  {
   "cell_type": "code",
   "execution_count": 0,
   "metadata": {
    "colab": {},
    "colab_type": "code",
    "id": "HdkCsK2gyaLM"
   },
   "outputs": [],
   "source": [
    "\n",
    " "
   ]
  },
  {
   "cell_type": "code",
   "execution_count": 0,
   "metadata": {
    "colab": {
     "base_uri": "https://localhost:8080/",
     "height": 119
    },
    "colab_type": "code",
    "id": "EaShUnHByx4A",
    "outputId": "f44b3323-5ec6-439c-de7d-867905b68494"
   },
   "outputs": [
    {
     "name": "stdout",
     "output_type": "stream",
     "text": [
      "train\n",
      "rmse:  2286.9911581254582\n",
      "mape:  inf\n",
      "val\n",
      "rmse:  2272.8164595634207\n",
      "mape:  inf\n"
     ]
    }
   ],
   "source": [
    "rmse(y_train,lin_regressor.predict(X_train),y_val,lin_regressor.predict(X_val))"
   ]
  },
  {
   "cell_type": "markdown",
   "metadata": {
    "colab_type": "text",
    "id": "VZlDYtV7zHp6"
   },
   "source": [
    "#### 2.Decision Tree regression"
   ]
  },
  {
   "cell_type": "code",
   "execution_count": 127,
   "metadata": {
    "colab": {
     "base_uri": "https://localhost:8080/",
     "height": 51
    },
    "colab_type": "code",
    "id": "eG-2LzY6y6c6",
    "outputId": "f7e56978-26b3-4bca-b77a-fdab96d4115d"
   },
   "outputs": [
    {
     "name": "stdout",
     "output_type": "stream",
     "text": [
      "CPU times: user 6min 5s, sys: 2.77 s, total: 6min 8s\n",
      "Wall time: 6min 8s\n"
     ]
    }
   ],
   "source": [
    "%%time\n",
    "from sklearn.tree import DecisionTreeRegressor\n",
    "dt = DecisionTreeRegressor(min_samples_split=30)\n",
    "dt.fit(X_train,y_train)"
   ]
  },
  {
   "cell_type": "code",
   "execution_count": 128,
   "metadata": {
    "colab": {
     "base_uri": "https://localhost:8080/",
     "height": 85
    },
    "colab_type": "code",
    "id": "ZvJd75mzzT8R",
    "outputId": "c915e9cc-7a97-4a68-b387-d6372c1ccbc1"
   },
   "outputs": [
    {
     "name": "stdout",
     "output_type": "stream",
     "text": [
      "train\n",
      "rmse:  641.4076862212274\n",
      "val\n",
      "rmse:  857.1707257981327\n"
     ]
    }
   ],
   "source": [
    "rmse(y_train,dt.predict(X_train),y_val,dt.predict(X_val))"
   ]
  },
  {
   "cell_type": "code",
   "execution_count": 0,
   "metadata": {
    "colab": {},
    "colab_type": "code",
    "id": "PCbJLSv3d7MB"
   },
   "outputs": [],
   "source": []
  },
  {
   "cell_type": "code",
   "execution_count": 0,
   "metadata": {
    "colab": {},
    "colab_type": "code",
    "id": "-8h1CYssYJ8a"
   },
   "outputs": [],
   "source": [
    "submission=pd.read_csv(\"/content/drive/My Drive/sample_submission1-1578562773139 (2).csv\")"
   ]
  },
  {
   "cell_type": "code",
   "execution_count": 0,
   "metadata": {
    "colab": {
     "base_uri": "https://localhost:8080/",
     "height": 824
    },
    "colab_type": "code",
    "id": "I8QSwZ3tQbnn",
    "outputId": "4242f90b-951d-42c9-b121-bfa5d45c9e11"
   },
   "outputs": [
    {
     "data": {
      "text/plain": [
       "([845667.8706226303,\n",
       "  728891.7679936994,\n",
       "  691439.9344225933,\n",
       "  672312.3408923222,\n",
       "  677090.8185663652,\n",
       "  676560.9126369329,\n",
       "  654263.5997861868,\n",
       "  632135.5221067528,\n",
       "  640213.0841161252,\n",
       "  647647.8682593363],\n",
       " [1600346.4643150312,\n",
       "  1389588.2841890634,\n",
       "  1415398.8062994925,\n",
       "  1423175.160064784,\n",
       "  1385560.219829506,\n",
       "  1407043.3186208461,\n",
       "  1332500.331690167,\n",
       "  1286215.1336578007,\n",
       "  1220156.0275229055,\n",
       "  1272492.375730626])"
      ]
     },
     "execution_count": 57,
     "metadata": {
      "tags": []
     },
     "output_type": "execute_result"
    },
    {
     "data": {
      "image/png": "[encoded data removed]",
      "text/plain": [
       "<Figure size 432x288 with 1 Axes>"
      ]
     },
     "metadata": {
      "tags": []
     },
     "output_type": "display_data"
    }
   ],
   "source": [
    "from mlxtend.plotting import plot_learning_curves\n",
    "\n",
    "plot_learning_curves(X_train, y_train, X_val, y_val, dt, scoring='mean_squared_error')"
   ]
  },
  {
   "cell_type": "markdown",
   "metadata": {
    "colab_type": "text",
    "id": "EIvLvOp1bWl_"
   },
   "source": [
    "##RandomForestRegressor"
   ]
  },
  {
   "cell_type": "code",
   "execution_count": 0,
   "metadata": {
    "colab": {
     "base_uri": "https://localhost:8080/",
     "height": 51
    },
    "colab_type": "code",
    "id": "agjcHMSwDCJ4",
    "outputId": "cfd5584a-3231-4c06-b5ea-53ddd986609f"
   },
   "outputs": [
    {
     "name": "stdout",
     "output_type": "stream",
     "text": [
      "CPU times: user 13h 38min 2s, sys: 2min 7s, total: 13h 40min 9s\n",
      "Wall time: 23min\n"
     ]
    }
   ],
   "source": [
    "%%time\n",
    "from sklearn.ensemble import RandomForestRegressor\n",
    "rfr=RandomForestRegressor(min_samples_split=100,n_jobs=-1)\n",
    "rfr.fit(X_train,y_train)"
   ]
  },
  {
   "cell_type": "code",
   "execution_count": 0,
   "metadata": {
    "colab": {
     "base_uri": "https://localhost:8080/",
     "height": 85
    },
    "colab_type": "code",
    "id": "BgWGt4wy2YIC",
    "outputId": "9935a3ce-477d-4d13-82e3-25c30d9def2f"
   },
   "outputs": [
    {
     "name": "stdout",
     "output_type": "stream",
     "text": [
      "train\n",
      "rmse:  821.9888306675102\n",
      "val\n",
      "rmse:  869.6967807242852\n"
     ]
    }
   ],
   "source": [
    "rmse(y_train,rfr.predict(X_train),y_val,rfr.predict(X_val))"
   ]
  },
  {
   "cell_type": "code",
   "execution_count": 0,
   "metadata": {
    "colab": {
     "base_uri": "https://localhost:8080/",
     "height": 870
    },
    "colab_type": "code",
    "id": "iP9ab5B477E2",
    "outputId": "61128259-cecb-49d9-ae3a-9547ee2bafb7"
   },
   "outputs": [
    {
     "data": {
      "text/plain": [
       "([1192690.3971363287,\n",
       "  986086.8187584884,\n",
       "  950162.0890356384,\n",
       "  906478.1092588395,\n",
       "  881656.583598833,\n",
       "  842806.3738348891,\n",
       "  773647.211536037,\n",
       "  726864.0875127085,\n",
       "  709221.1992574725,\n",
       "  675705.5735433752],\n",
       " [1345529.4861878923,\n",
       "  1182673.1328276428,\n",
       "  1063298.5298229628,\n",
       "  1000836.3215903015,\n",
       "  960544.2644230678,\n",
       "  917631.6180617121,\n",
       "  869970.638548587,\n",
       "  831226.9120781227,\n",
       "  804943.8530516464,\n",
       "  755467.5602495364])"
      ]
     },
     "execution_count": 38,
     "metadata": {
      "tags": []
     },
     "output_type": "execute_result"
    },
    {
     "data": {
      "image/png": "[encoded data removed]",
      "text/plain": [
       "<Figure size 432x288 with 1 Axes>"
      ]
     },
     "metadata": {
      "tags": []
     },
     "output_type": "display_data"
    }
   ],
   "source": [
    "from mlxtend.plotting import plot_learning_curves\n",
    "\n",
    "plot_learning_curves(X_train, y_train, X_val, y_val, rfr, scoring='mean_squared_error')"
   ]
  },
  {
   "cell_type": "code",
   "execution_count": 0,
   "metadata": {
    "colab": {},
    "colab_type": "code",
    "id": "AdUlKiIi6soM"
   },
   "outputs": [],
   "source": [
    "f_test_data1.sort_values(\"id\",inplace=True)"
   ]
  },
  {
   "cell_type": "code",
   "execution_count": 0,
   "metadata": {
    "colab": {},
    "colab_type": "code",
    "id": "VQAIS7Eq7Yt1"
   },
   "outputs": [],
   "source": [
    "f_test_data2=f_test_data1.drop(\"id\",axis=1)"
   ]
  },
  {
   "cell_type": "code",
   "execution_count": 0,
   "metadata": {
    "colab": {},
    "colab_type": "code",
    "id": "RRP8xuh47hX0"
   },
   "outputs": [],
   "source": [
    "output=pd.DataFrame({'id':f_test_data1[\"id\"],'yield':dt.predict(f_test_data2)})"
   ]
  },
  {
   "cell_type": "code",
   "execution_count": 132,
   "metadata": {
    "colab": {
     "base_uri": "https://localhost:8080/",
     "height": 204
    },
    "colab_type": "code",
    "id": "7MBc0QvFBNoB",
    "outputId": "d327f17e-a9c0-4aae-822a-ff320f57ecb8"
   },
   "outputs": [
    {
     "data": {
      "text/html": [
       "<div>\n",
       "<style scoped>\n",
       "    .dataframe tbody tr th:only-of-type {\n",
       "        vertical-align: middle;\n",
       "    }\n",
       "\n",
       "    .dataframe tbody tr th {\n",
       "        vertical-align: top;\n",
       "    }\n",
       "\n",
       "    .dataframe thead th {\n",
       "        text-align: right;\n",
       "    }\n",
       "</style>\n",
       "<table border=\"1\" class=\"dataframe\">\n",
       "  <thead>\n",
       "    <tr style=\"text-align: right;\">\n",
       "      <th></th>\n",
       "      <th>id</th>\n",
       "      <th>yield</th>\n",
       "    </tr>\n",
       "  </thead>\n",
       "  <tbody>\n",
       "    <tr>\n",
       "      <th>13210078</th>\n",
       "      <td>41696845.0</td>\n",
       "      <td>0.000000</td>\n",
       "    </tr>\n",
       "    <tr>\n",
       "      <th>13210079</th>\n",
       "      <td>41696846.0</td>\n",
       "      <td>313.259000</td>\n",
       "    </tr>\n",
       "    <tr>\n",
       "      <th>13236357</th>\n",
       "      <td>41696847.0</td>\n",
       "      <td>228.750000</td>\n",
       "    </tr>\n",
       "    <tr>\n",
       "      <th>13236358</th>\n",
       "      <td>41696848.0</td>\n",
       "      <td>1.062375</td>\n",
       "    </tr>\n",
       "    <tr>\n",
       "      <th>13236359</th>\n",
       "      <td>41696849.0</td>\n",
       "      <td>170.244200</td>\n",
       "    </tr>\n",
       "  </tbody>\n",
       "</table>\n",
       "</div>"
      ],
      "text/plain": [
       "                  id       yield\n",
       "13210078  41696845.0    0.000000\n",
       "13210079  41696846.0  313.259000\n",
       "13236357  41696847.0  228.750000\n",
       "13236358  41696848.0    1.062375\n",
       "13236359  41696849.0  170.244200"
      ]
     },
     "execution_count": 132,
     "metadata": {
      "tags": []
     },
     "output_type": "execute_result"
    }
   ],
   "source": [
    "output.tail()"
   ]
  },
  {
   "cell_type": "code",
   "execution_count": 0,
   "metadata": {
    "colab": {},
    "colab_type": "code",
    "id": "_kb5b3JOaJCP"
   },
   "outputs": [],
   "source": [
    "sub1=pd.merge(output,submission,how=\"inner\",on=\"id\")"
   ]
  },
  {
   "cell_type": "code",
   "execution_count": 0,
   "metadata": {
    "colab": {
     "base_uri": "https://localhost:8080/",
     "height": 204
    },
    "colab_type": "code",
    "id": "BV4MhfZucc8p",
    "outputId": "d2b95a26-ddaa-4a34-b67e-6b3894ca868b"
   },
   "outputs": [
    {
     "data": {
      "text/html": [
       "<div>\n",
       "<style scoped>\n",
       "    .dataframe tbody tr th:only-of-type {\n",
       "        vertical-align: middle;\n",
       "    }\n",
       "\n",
       "    .dataframe tbody tr th {\n",
       "        vertical-align: top;\n",
       "    }\n",
       "\n",
       "    .dataframe thead th {\n",
       "        text-align: right;\n",
       "    }\n",
       "</style>\n",
       "<table border=\"1\" class=\"dataframe\">\n",
       "  <thead>\n",
       "    <tr style=\"text-align: right;\">\n",
       "      <th></th>\n",
       "      <th>id</th>\n",
       "      <th>yield_x</th>\n",
       "      <th>yield_y</th>\n",
       "    </tr>\n",
       "  </thead>\n",
       "  <tbody>\n",
       "    <tr>\n",
       "      <th>0</th>\n",
       "      <td>1.0</td>\n",
       "      <td>0.0</td>\n",
       "      <td>0</td>\n",
       "    </tr>\n",
       "    <tr>\n",
       "      <th>1</th>\n",
       "      <td>2.0</td>\n",
       "      <td>0.0</td>\n",
       "      <td>0</td>\n",
       "    </tr>\n",
       "    <tr>\n",
       "      <th>2</th>\n",
       "      <td>3.0</td>\n",
       "      <td>0.0</td>\n",
       "      <td>0</td>\n",
       "    </tr>\n",
       "    <tr>\n",
       "      <th>3</th>\n",
       "      <td>4.0</td>\n",
       "      <td>0.0</td>\n",
       "      <td>0</td>\n",
       "    </tr>\n",
       "    <tr>\n",
       "      <th>4</th>\n",
       "      <td>5.0</td>\n",
       "      <td>0.0</td>\n",
       "      <td>0</td>\n",
       "    </tr>\n",
       "  </tbody>\n",
       "</table>\n",
       "</div>"
      ],
      "text/plain": [
       "    id  yield_x  yield_y\n",
       "0  1.0      0.0        0\n",
       "1  2.0      0.0        0\n",
       "2  3.0      0.0        0\n",
       "3  4.0      0.0        0\n",
       "4  5.0      0.0        0"
      ]
     },
     "execution_count": 62,
     "metadata": {
      "tags": []
     },
     "output_type": "execute_result"
    }
   ],
   "source": [
    "sub1.head()"
   ]
  },
  {
   "cell_type": "code",
   "execution_count": 0,
   "metadata": {
    "colab": {},
    "colab_type": "code",
    "id": "vz2Ua_GUaxdC"
   },
   "outputs": [],
   "source": [
    "sub1.drop(\"yield_y\",axis=1,inplace=True)"
   ]
  },
  {
   "cell_type": "code",
   "execution_count": 0,
   "metadata": {
    "colab": {
     "base_uri": "https://localhost:8080/",
     "height": 419
    },
    "colab_type": "code",
    "id": "yXtxdDA5bgI1",
    "outputId": "70f9e7b4-cadf-4fbe-9ba1-218297da2b25"
   },
   "outputs": [
    {
     "data": {
      "text/html": [
       "<div>\n",
       "<style scoped>\n",
       "    .dataframe tbody tr th:only-of-type {\n",
       "        vertical-align: middle;\n",
       "    }\n",
       "\n",
       "    .dataframe tbody tr th {\n",
       "        vertical-align: top;\n",
       "    }\n",
       "\n",
       "    .dataframe thead th {\n",
       "        text-align: right;\n",
       "    }\n",
       "</style>\n",
       "<table border=\"1\" class=\"dataframe\">\n",
       "  <thead>\n",
       "    <tr style=\"text-align: right;\">\n",
       "      <th></th>\n",
       "      <th>id</th>\n",
       "      <th>yield_x</th>\n",
       "    </tr>\n",
       "  </thead>\n",
       "  <tbody>\n",
       "    <tr>\n",
       "      <th>0</th>\n",
       "      <td>1.0</td>\n",
       "      <td>0.000000</td>\n",
       "    </tr>\n",
       "    <tr>\n",
       "      <th>1</th>\n",
       "      <td>2.0</td>\n",
       "      <td>0.000000</td>\n",
       "    </tr>\n",
       "    <tr>\n",
       "      <th>2</th>\n",
       "      <td>3.0</td>\n",
       "      <td>0.000000</td>\n",
       "    </tr>\n",
       "    <tr>\n",
       "      <th>3</th>\n",
       "      <td>4.0</td>\n",
       "      <td>0.000000</td>\n",
       "    </tr>\n",
       "    <tr>\n",
       "      <th>4</th>\n",
       "      <td>5.0</td>\n",
       "      <td>0.000000</td>\n",
       "    </tr>\n",
       "    <tr>\n",
       "      <th>...</th>\n",
       "      <td>...</td>\n",
       "      <td>...</td>\n",
       "    </tr>\n",
       "    <tr>\n",
       "      <th>95</th>\n",
       "      <td>96.0</td>\n",
       "      <td>0.000000</td>\n",
       "    </tr>\n",
       "    <tr>\n",
       "      <th>96</th>\n",
       "      <td>97.0</td>\n",
       "      <td>0.000000</td>\n",
       "    </tr>\n",
       "    <tr>\n",
       "      <th>97</th>\n",
       "      <td>98.0</td>\n",
       "      <td>0.000000</td>\n",
       "    </tr>\n",
       "    <tr>\n",
       "      <th>98</th>\n",
       "      <td>99.0</td>\n",
       "      <td>135.517347</td>\n",
       "    </tr>\n",
       "    <tr>\n",
       "      <th>99</th>\n",
       "      <td>100.0</td>\n",
       "      <td>0.000000</td>\n",
       "    </tr>\n",
       "  </tbody>\n",
       "</table>\n",
       "<p>100 rows × 2 columns</p>\n",
       "</div>"
      ],
      "text/plain": [
       "       id     yield_x\n",
       "0     1.0    0.000000\n",
       "1     2.0    0.000000\n",
       "2     3.0    0.000000\n",
       "3     4.0    0.000000\n",
       "4     5.0    0.000000\n",
       "..    ...         ...\n",
       "95   96.0    0.000000\n",
       "96   97.0    0.000000\n",
       "97   98.0    0.000000\n",
       "98   99.0  135.517347\n",
       "99  100.0    0.000000\n",
       "\n",
       "[100 rows x 2 columns]"
      ]
     },
     "execution_count": 64,
     "metadata": {
      "tags": []
     },
     "output_type": "execute_result"
    }
   ],
   "source": [
    "sub1.head(100)"
   ]
  },
  {
   "cell_type": "code",
   "execution_count": 0,
   "metadata": {
    "colab": {},
    "colab_type": "code",
    "id": "yZuPEaqz9qqL"
   },
   "outputs": [],
   "source": [
    "output.to_csv( '/content/drive/My Drive/solution1_vinod.csv',index=False)"
   ]
  },
  {
   "cell_type": "code",
   "execution_count": 0,
   "metadata": {
    "colab": {
     "base_uri": "https://localhost:8080/",
     "height": 85
    },
    "colab_type": "code",
    "id": "mRCWnYXoOgUU",
    "outputId": "7e536367-68b6-4d65-898f-57a20005e933"
   },
   "outputs": [
    {
     "data": {
      "text/plain": [
       "array([0.14683891, 0.07052305, 0.03251603, 0.02443516, 0.12102042,\n",
       "       0.33232109, 0.04320647, 0.07418031, 0.00243755, 0.03010379,\n",
       "       0.01077406, 0.00195695, 0.00930084, 0.05214324, 0.02501421,\n",
       "       0.02322792])"
      ]
     },
     "execution_count": 158,
     "metadata": {
      "tags": []
     },
     "output_type": "execute_result"
    }
   ],
   "source": [
    "dt.feature_importances_"
   ]
  },
  {
   "cell_type": "code",
   "execution_count": 0,
   "metadata": {
    "colab": {},
    "colab_type": "code",
    "id": "Se5eaEigPPVK"
   },
   "outputs": [],
   "source": [
    "imp=pd.DataFrame(rfr.feature_importances_,index=X_train.columns)"
   ]
  },
  {
   "cell_type": "code",
   "execution_count": 0,
   "metadata": {
    "colab": {
     "base_uri": "https://localhost:8080/",
     "height": 545
    },
    "colab_type": "code",
    "id": "XEjoIv_0QGPb",
    "outputId": "f8c81b67-ffa5-4920-c86e-726fcbe2bc24"
   },
   "outputs": [
    {
     "data": {
      "text/html": [
       "<div>\n",
       "<style scoped>\n",
       "    .dataframe tbody tr th:only-of-type {\n",
       "        vertical-align: middle;\n",
       "    }\n",
       "\n",
       "    .dataframe tbody tr th {\n",
       "        vertical-align: top;\n",
       "    }\n",
       "\n",
       "    .dataframe thead th {\n",
       "        text-align: right;\n",
       "    }\n",
       "</style>\n",
       "<table border=\"1\" class=\"dataframe\">\n",
       "  <thead>\n",
       "    <tr style=\"text-align: right;\">\n",
       "      <th></th>\n",
       "      <th>0</th>\n",
       "    </tr>\n",
       "  </thead>\n",
       "  <tbody>\n",
       "    <tr>\n",
       "      <th>farm_area</th>\n",
       "      <td>0.250698</td>\n",
       "    </tr>\n",
       "    <tr>\n",
       "      <th>farming_company</th>\n",
       "      <td>0.207955</td>\n",
       "    </tr>\n",
       "    <tr>\n",
       "      <th>ingredient_type_ing_y</th>\n",
       "      <td>0.128733</td>\n",
       "    </tr>\n",
       "    <tr>\n",
       "      <th>temp_obs</th>\n",
       "      <td>0.081042</td>\n",
       "    </tr>\n",
       "    <tr>\n",
       "      <th>farm_id</th>\n",
       "      <td>0.065660</td>\n",
       "    </tr>\n",
       "    <tr>\n",
       "      <th>day</th>\n",
       "      <td>0.054179</td>\n",
       "    </tr>\n",
       "    <tr>\n",
       "      <th>month</th>\n",
       "      <td>0.049655</td>\n",
       "    </tr>\n",
       "    <tr>\n",
       "      <th>dew_temp</th>\n",
       "      <td>0.044043</td>\n",
       "    </tr>\n",
       "    <tr>\n",
       "      <th>deidentified_location</th>\n",
       "      <td>0.043228</td>\n",
       "    </tr>\n",
       "    <tr>\n",
       "      <th>pressure_sea_level</th>\n",
       "      <td>0.020362</td>\n",
       "    </tr>\n",
       "    <tr>\n",
       "      <th>ingredient_type_ing_z</th>\n",
       "      <td>0.012413</td>\n",
       "    </tr>\n",
       "    <tr>\n",
       "      <th>quarter</th>\n",
       "      <td>0.011490</td>\n",
       "    </tr>\n",
       "    <tr>\n",
       "      <th>hour</th>\n",
       "      <td>0.010923</td>\n",
       "    </tr>\n",
       "    <tr>\n",
       "      <th>wind_direction</th>\n",
       "      <td>0.009893</td>\n",
       "    </tr>\n",
       "    <tr>\n",
       "      <th>wind_speed</th>\n",
       "      <td>0.005276</td>\n",
       "    </tr>\n",
       "    <tr>\n",
       "      <th>ingredient_type_ing_x</th>\n",
       "      <td>0.004452</td>\n",
       "    </tr>\n",
       "  </tbody>\n",
       "</table>\n",
       "</div>"
      ],
      "text/plain": [
       "                              0\n",
       "farm_area              0.250698\n",
       "farming_company        0.207955\n",
       "ingredient_type_ing_y  0.128733\n",
       "temp_obs               0.081042\n",
       "farm_id                0.065660\n",
       "day                    0.054179\n",
       "month                  0.049655\n",
       "dew_temp               0.044043\n",
       "deidentified_location  0.043228\n",
       "pressure_sea_level     0.020362\n",
       "ingredient_type_ing_z  0.012413\n",
       "quarter                0.011490\n",
       "hour                   0.010923\n",
       "wind_direction         0.009893\n",
       "wind_speed             0.005276\n",
       "ingredient_type_ing_x  0.004452"
      ]
     },
     "execution_count": 47,
     "metadata": {
      "tags": []
     },
     "output_type": "execute_result"
    }
   ],
   "source": [
    "imp.sort_values(by=0,ascending=False)"
   ]
  },
  {
   "cell_type": "code",
   "execution_count": 0,
   "metadata": {
    "colab": {},
    "colab_type": "code",
    "id": "G3ykeBJLQb9W"
   },
   "outputs": [],
   "source": [
    "imp=imp[imp[0]<0.012413]"
   ]
  },
  {
   "cell_type": "code",
   "execution_count": 0,
   "metadata": {
    "colab": {
     "base_uri": "https://localhost:8080/",
     "height": 204
    },
    "colab_type": "code",
    "id": "rLRPbHI60qi9",
    "outputId": "8c9844f3-3692-478a-f10c-d3d2be1db0d3"
   },
   "outputs": [
    {
     "data": {
      "text/html": [
       "<div>\n",
       "<style scoped>\n",
       "    .dataframe tbody tr th:only-of-type {\n",
       "        vertical-align: middle;\n",
       "    }\n",
       "\n",
       "    .dataframe tbody tr th {\n",
       "        vertical-align: top;\n",
       "    }\n",
       "\n",
       "    .dataframe thead th {\n",
       "        text-align: right;\n",
       "    }\n",
       "</style>\n",
       "<table border=\"1\" class=\"dataframe\">\n",
       "  <thead>\n",
       "    <tr style=\"text-align: right;\">\n",
       "      <th></th>\n",
       "      <th>0</th>\n",
       "    </tr>\n",
       "  </thead>\n",
       "  <tbody>\n",
       "    <tr>\n",
       "      <th>wind_direction</th>\n",
       "      <td>0.009893</td>\n",
       "    </tr>\n",
       "    <tr>\n",
       "      <th>wind_speed</th>\n",
       "      <td>0.005276</td>\n",
       "    </tr>\n",
       "    <tr>\n",
       "      <th>hour</th>\n",
       "      <td>0.010923</td>\n",
       "    </tr>\n",
       "    <tr>\n",
       "      <th>quarter</th>\n",
       "      <td>0.011490</td>\n",
       "    </tr>\n",
       "    <tr>\n",
       "      <th>ingredient_type_ing_x</th>\n",
       "      <td>0.004452</td>\n",
       "    </tr>\n",
       "  </tbody>\n",
       "</table>\n",
       "</div>"
      ],
      "text/plain": [
       "                              0\n",
       "wind_direction         0.009893\n",
       "wind_speed             0.005276\n",
       "hour                   0.010923\n",
       "quarter                0.011490\n",
       "ingredient_type_ing_x  0.004452"
      ]
     },
     "execution_count": 49,
     "metadata": {
      "tags": []
     },
     "output_type": "execute_result"
    }
   ],
   "source": [
    "imp"
   ]
  },
  {
   "cell_type": "code",
   "execution_count": 0,
   "metadata": {
    "colab": {},
    "colab_type": "code",
    "id": "y0jh8xRIRT8C"
   },
   "outputs": [],
   "source": [
    "imp=pd.array(imp.index)"
   ]
  },
  {
   "cell_type": "code",
   "execution_count": 0,
   "metadata": {
    "colab": {
     "base_uri": "https://localhost:8080/",
     "height": 122
    },
    "colab_type": "code",
    "id": "tNI5chBMRbnK",
    "outputId": "e7f25120-d05d-43f1-8a41-4c26c9550dbb"
   },
   "outputs": [
    {
     "name": "stderr",
     "output_type": "stream",
     "text": [
      "/usr/local/lib/python3.6/dist-packages/pandas/core/frame.py:4117: SettingWithCopyWarning: \n",
      "A value is trying to be set on a copy of a slice from a DataFrame\n",
      "\n",
      "See the caveats in the documentation: http://pandas.pydata.org/pandas-docs/stable/user_guide/indexing.html#returning-a-view-versus-a-copy\n",
      "  errors=errors,\n"
     ]
    }
   ],
   "source": [
    "X_train.drop(imp,axis=1,inplace=True)"
   ]
  },
  {
   "cell_type": "code",
   "execution_count": 0,
   "metadata": {
    "colab": {
     "base_uri": "https://localhost:8080/",
     "height": 122
    },
    "colab_type": "code",
    "id": "dGL-su9MRssf",
    "outputId": "da66a053-0345-4c82-b016-e3b8bd28d985"
   },
   "outputs": [
    {
     "name": "stderr",
     "output_type": "stream",
     "text": [
      "/usr/local/lib/python3.6/dist-packages/pandas/core/frame.py:4117: SettingWithCopyWarning: \n",
      "A value is trying to be set on a copy of a slice from a DataFrame\n",
      "\n",
      "See the caveats in the documentation: http://pandas.pydata.org/pandas-docs/stable/user_guide/indexing.html#returning-a-view-versus-a-copy\n",
      "  errors=errors,\n"
     ]
    }
   ],
   "source": [
    "X_val.drop(imp,axis=1,inplace=True)"
   ]
  },
  {
   "cell_type": "code",
   "execution_count": 0,
   "metadata": {
    "colab": {
     "base_uri": "https://localhost:8080/",
     "height": 85
    },
    "colab_type": "code",
    "id": "qXKVnzDbR0aa",
    "outputId": "70124caf-a248-42bf-958b-133421458418"
   },
   "outputs": [
    {
     "data": {
      "text/plain": [
       "Index(['farm_id', 'farm_area', 'farming_company', 'deidentified_location',\n",
       "       'temp_obs', 'dew_temp', 'pressure_sea_level', 'day', 'month',\n",
       "       'ingredient_type_ing_y', 'ingredient_type_ing_z'],\n",
       "      dtype='object')"
      ]
     },
     "execution_count": 53,
     "metadata": {
      "tags": []
     },
     "output_type": "execute_result"
    }
   ],
   "source": [
    "X_val.columns"
   ]
  },
  {
   "cell_type": "code",
   "execution_count": 0,
   "metadata": {
    "colab": {
     "base_uri": "https://localhost:8080/",
     "height": 85
    },
    "colab_type": "code",
    "id": "LrJCWdkyR8df",
    "outputId": "68150c4e-776f-43a9-f903-b64416bf1899"
   },
   "outputs": [
    {
     "data": {
      "text/plain": [
       "Index(['farm_id', 'farm_area', 'farming_company', 'deidentified_location',\n",
       "       'temp_obs', 'dew_temp', 'pressure_sea_level', 'day', 'month',\n",
       "       'ingredient_type_ing_y', 'ingredient_type_ing_z'],\n",
       "      dtype='object')"
      ]
     },
     "execution_count": 54,
     "metadata": {
      "tags": []
     },
     "output_type": "execute_result"
    }
   ],
   "source": [
    "X_train.columns"
   ]
  },
  {
   "cell_type": "markdown",
   "metadata": {
    "colab_type": "text",
    "id": "IA81gIsDbDd0"
   },
   "source": [
    "#GradientBoostingRegressor"
   ]
  },
  {
   "cell_type": "code",
   "execution_count": 0,
   "metadata": {
    "colab": {
     "base_uri": "https://localhost:8080/",
     "height": 51
    },
    "colab_type": "code",
    "id": "Zbo4AVuXSCgT",
    "outputId": "c810a21f-0e72-4d7b-a7ce-06a0dd95919d"
   },
   "outputs": [
    {
     "name": "stdout",
     "output_type": "stream",
     "text": [
      "CPU times: user 1h 4min 42s, sys: 2.32 s, total: 1h 4min 44s\n",
      "Wall time: 1h 4min 45s\n"
     ]
    }
   ],
   "source": [
    "%%time\n",
    "from sklearn.ensemble import GradientBoostingRegressor\n",
    "\n",
    "gbm=GradientBoostingRegressor()\n",
    "gbm.fit(X=X_train, y=y_train)"
   ]
  },
  {
   "cell_type": "code",
   "execution_count": 0,
   "metadata": {
    "colab": {
     "base_uri": "https://localhost:8080/",
     "height": 85
    },
    "colab_type": "code",
    "id": "SQWpWyCKScVF",
    "outputId": "d7305b03-9acf-48ab-fb00-498cafc395c1"
   },
   "outputs": [
    {
     "name": "stdout",
     "output_type": "stream",
     "text": [
      "train\n",
      "rmse:  1613.115484136476\n",
      "val\n",
      "rmse:  1598.591766831\n"
     ]
    }
   ],
   "source": [
    "rmse(y_train,gbm.predict(X_train),y_val,gbm.predict(X_val))"
   ]
  },
  {
   "cell_type": "code",
   "execution_count": 0,
   "metadata": {
    "colab": {},
    "colab_type": "code",
    "id": "_YDZBvWIhd4f"
   },
   "outputs": [],
   "source": []
  },
  {
   "cell_type": "markdown",
   "metadata": {
    "colab_type": "text",
    "id": "9WEj96_PEXpb"
   },
   "source": [
    "#Question no 3:\n",
    "Given the forecasted demand for the next few months for a particular ingredient, device a strategy to source it"
   ]
  },
  {
   "cell_type": "code",
   "execution_count": 0,
   "metadata": {
    "colab": {},
    "colab_type": "code",
    "id": "qeb_zj6rDQC_"
   },
   "outputs": [],
   "source": [
    "sol=pd.read_csv(\"/content/drive/My Drive/solution1_vinod.csv\")"
   ]
  },
  {
   "cell_type": "code",
   "execution_count": 136,
   "metadata": {
    "colab": {
     "base_uri": "https://localhost:8080/",
     "height": 204
    },
    "colab_type": "code",
    "id": "YnPqvTQ0GzuX",
    "outputId": "edf2e778-9da2-4a28-fbb6-740165965682"
   },
   "outputs": [
    {
     "data": {
      "text/html": [
       "<div>\n",
       "<style scoped>\n",
       "    .dataframe tbody tr th:only-of-type {\n",
       "        vertical-align: middle;\n",
       "    }\n",
       "\n",
       "    .dataframe tbody tr th {\n",
       "        vertical-align: top;\n",
       "    }\n",
       "\n",
       "    .dataframe thead th {\n",
       "        text-align: right;\n",
       "    }\n",
       "</style>\n",
       "<table border=\"1\" class=\"dataframe\">\n",
       "  <thead>\n",
       "    <tr style=\"text-align: right;\">\n",
       "      <th></th>\n",
       "      <th>id</th>\n",
       "      <th>yield</th>\n",
       "    </tr>\n",
       "  </thead>\n",
       "  <tbody>\n",
       "    <tr>\n",
       "      <th>20848795</th>\n",
       "      <td>41696845.0</td>\n",
       "      <td>0.000000</td>\n",
       "    </tr>\n",
       "    <tr>\n",
       "      <th>20848796</th>\n",
       "      <td>41696846.0</td>\n",
       "      <td>313.259000</td>\n",
       "    </tr>\n",
       "    <tr>\n",
       "      <th>20848797</th>\n",
       "      <td>41696847.0</td>\n",
       "      <td>228.750000</td>\n",
       "    </tr>\n",
       "    <tr>\n",
       "      <th>20848798</th>\n",
       "      <td>41696848.0</td>\n",
       "      <td>1.062375</td>\n",
       "    </tr>\n",
       "    <tr>\n",
       "      <th>20848799</th>\n",
       "      <td>41696849.0</td>\n",
       "      <td>170.244200</td>\n",
       "    </tr>\n",
       "  </tbody>\n",
       "</table>\n",
       "</div>"
      ],
      "text/plain": [
       "                  id       yield\n",
       "20848795  41696845.0    0.000000\n",
       "20848796  41696846.0  313.259000\n",
       "20848797  41696847.0  228.750000\n",
       "20848798  41696848.0    1.062375\n",
       "20848799  41696849.0  170.244200"
      ]
     },
     "execution_count": 136,
     "metadata": {
      "tags": []
     },
     "output_type": "execute_result"
    }
   ],
   "source": [
    "sol.tail()"
   ]
  },
  {
   "cell_type": "code",
   "execution_count": 0,
   "metadata": {
    "colab": {},
    "colab_type": "code",
    "id": "EmiXvNucE55z"
   },
   "outputs": [],
   "source": [
    "testwithtarget = pd.concat([f_test_data1, pd.DataFrame(sol,columns=['yield'])],axis =1 )"
   ]
  },
  {
   "cell_type": "code",
   "execution_count": 138,
   "metadata": {
    "colab": {
     "base_uri": "https://localhost:8080/",
     "height": 224
    },
    "colab_type": "code",
    "id": "h6JroOUFFT0K",
    "outputId": "e8faf582-a02e-4d39-9bea-2dbdbbaf7228"
   },
   "outputs": [
    {
     "data": {
      "text/html": [
       "<div>\n",
       "<style scoped>\n",
       "    .dataframe tbody tr th:only-of-type {\n",
       "        vertical-align: middle;\n",
       "    }\n",
       "\n",
       "    .dataframe tbody tr th {\n",
       "        vertical-align: top;\n",
       "    }\n",
       "\n",
       "    .dataframe thead th {\n",
       "        text-align: right;\n",
       "    }\n",
       "</style>\n",
       "<table border=\"1\" class=\"dataframe\">\n",
       "  <thead>\n",
       "    <tr style=\"text-align: right;\">\n",
       "      <th></th>\n",
       "      <th>farm_id</th>\n",
       "      <th>id</th>\n",
       "      <th>farm_area</th>\n",
       "      <th>farming_company</th>\n",
       "      <th>deidentified_location</th>\n",
       "      <th>temp_obs</th>\n",
       "      <th>wind_direction</th>\n",
       "      <th>dew_temp</th>\n",
       "      <th>pressure_sea_level</th>\n",
       "      <th>wind_speed</th>\n",
       "      <th>day</th>\n",
       "      <th>month</th>\n",
       "      <th>hour</th>\n",
       "      <th>quarter</th>\n",
       "      <th>ingredient_type_ing_w</th>\n",
       "      <th>ingredient_type_ing_x</th>\n",
       "      <th>ingredient_type_ing_y</th>\n",
       "      <th>ingredient_type_ing_z</th>\n",
       "      <th>yield</th>\n",
       "    </tr>\n",
       "  </thead>\n",
       "  <tbody>\n",
       "    <tr>\n",
       "      <th>0</th>\n",
       "      <td>142</td>\n",
       "      <td>0.0</td>\n",
       "      <td>690.455096</td>\n",
       "      <td>8</td>\n",
       "      <td>12</td>\n",
       "      <td>17.8</td>\n",
       "      <td>100.0</td>\n",
       "      <td>11.7</td>\n",
       "      <td>1021.4</td>\n",
       "      <td>3.6</td>\n",
       "      <td>1</td>\n",
       "      <td>1</td>\n",
       "      <td>0</td>\n",
       "      <td>1.0</td>\n",
       "      <td>1</td>\n",
       "      <td>0</td>\n",
       "      <td>0</td>\n",
       "      <td>0</td>\n",
       "      <td>0.0</td>\n",
       "    </tr>\n",
       "    <tr>\n",
       "      <th>1</th>\n",
       "      <td>142</td>\n",
       "      <td>129.0</td>\n",
       "      <td>690.455096</td>\n",
       "      <td>8</td>\n",
       "      <td>12</td>\n",
       "      <td>17.8</td>\n",
       "      <td>130.0</td>\n",
       "      <td>12.8</td>\n",
       "      <td>1022.0</td>\n",
       "      <td>3.1</td>\n",
       "      <td>1</td>\n",
       "      <td>1</td>\n",
       "      <td>1</td>\n",
       "      <td>1.0</td>\n",
       "      <td>1</td>\n",
       "      <td>0</td>\n",
       "      <td>0</td>\n",
       "      <td>0</td>\n",
       "      <td>0.0</td>\n",
       "    </tr>\n",
       "    <tr>\n",
       "      <th>2</th>\n",
       "      <td>142</td>\n",
       "      <td>258.0</td>\n",
       "      <td>690.455096</td>\n",
       "      <td>8</td>\n",
       "      <td>12</td>\n",
       "      <td>16.1</td>\n",
       "      <td>140.0</td>\n",
       "      <td>12.8</td>\n",
       "      <td>1021.9</td>\n",
       "      <td>3.1</td>\n",
       "      <td>1</td>\n",
       "      <td>1</td>\n",
       "      <td>2</td>\n",
       "      <td>1.0</td>\n",
       "      <td>1</td>\n",
       "      <td>0</td>\n",
       "      <td>0</td>\n",
       "      <td>0</td>\n",
       "      <td>0.0</td>\n",
       "    </tr>\n",
       "    <tr>\n",
       "      <th>3</th>\n",
       "      <td>142</td>\n",
       "      <td>387.0</td>\n",
       "      <td>690.455096</td>\n",
       "      <td>8</td>\n",
       "      <td>12</td>\n",
       "      <td>17.2</td>\n",
       "      <td>140.0</td>\n",
       "      <td>13.3</td>\n",
       "      <td>1022.2</td>\n",
       "      <td>3.1</td>\n",
       "      <td>1</td>\n",
       "      <td>1</td>\n",
       "      <td>3</td>\n",
       "      <td>1.0</td>\n",
       "      <td>1</td>\n",
       "      <td>0</td>\n",
       "      <td>0</td>\n",
       "      <td>0</td>\n",
       "      <td>0.0</td>\n",
       "    </tr>\n",
       "    <tr>\n",
       "      <th>4</th>\n",
       "      <td>142</td>\n",
       "      <td>516.0</td>\n",
       "      <td>690.455096</td>\n",
       "      <td>8</td>\n",
       "      <td>12</td>\n",
       "      <td>16.7</td>\n",
       "      <td>130.0</td>\n",
       "      <td>13.3</td>\n",
       "      <td>1022.3</td>\n",
       "      <td>2.6</td>\n",
       "      <td>1</td>\n",
       "      <td>1</td>\n",
       "      <td>4</td>\n",
       "      <td>1.0</td>\n",
       "      <td>1</td>\n",
       "      <td>0</td>\n",
       "      <td>0</td>\n",
       "      <td>0</td>\n",
       "      <td>0.0</td>\n",
       "    </tr>\n",
       "  </tbody>\n",
       "</table>\n",
       "</div>"
      ],
      "text/plain": [
       "   farm_id     id  ...  ingredient_type_ing_z  yield\n",
       "0      142    0.0  ...                      0    0.0\n",
       "1      142  129.0  ...                      0    0.0\n",
       "2      142  258.0  ...                      0    0.0\n",
       "3      142  387.0  ...                      0    0.0\n",
       "4      142  516.0  ...                      0    0.0\n",
       "\n",
       "[5 rows x 19 columns]"
      ]
     },
     "execution_count": 138,
     "metadata": {
      "tags": []
     },
     "output_type": "execute_result"
    }
   ],
   "source": [
    "testwithtarget.head()"
   ]
  },
  {
   "cell_type": "code",
   "execution_count": 141,
   "metadata": {
    "colab": {
     "base_uri": "https://localhost:8080/",
     "height": 255
    },
    "colab_type": "code",
    "id": "73s_tz85XOrc",
    "outputId": "1b0ff2f0-afdd-44f0-9cb9-42732eda82d8"
   },
   "outputs": [
    {
     "data": {
      "text/plain": [
       "month\n",
       "1     3.908384e+08\n",
       "2     3.549268e+08\n",
       "3     3.911121e+08\n",
       "4     3.737376e+08\n",
       "5     3.926030e+08\n",
       "6     3.788139e+08\n",
       "7     3.920430e+08\n",
       "8     3.891291e+08\n",
       "9     3.831823e+08\n",
       "10    3.964222e+08\n",
       "11    3.829509e+08\n",
       "12    3.940124e+08\n",
       "Name: yield, dtype: float64"
      ]
     },
     "execution_count": 141,
     "metadata": {
      "tags": []
     },
     "output_type": "execute_result"
    }
   ],
   "source": [
    "testwithtarget[testwithtarget['ingredient_type_ing_w']==1].groupby(['month'])['yield'].sum()"
   ]
  },
  {
   "cell_type": "code",
   "execution_count": 0,
   "metadata": {
    "colab": {},
    "colab_type": "code",
    "id": "AQ65DCTsaAFX"
   },
   "outputs": [],
   "source": []
  }
 ],
 "metadata": {
  "accelerator": "GPU",
  "colab": {
   "collapsed_sections": [],
   "machine_shape": "hm",
   "name": "phd1_final.ipynb",
   "provenance": [],
   "toc_visible": true
  },
  "kernelspec": {
   "display_name": "Python 3",
   "language": "python",
   "name": "python3"
  },
  "language_info": {
   "codemirror_mode": {
    "name": "ipython",
    "version": 3
   },
   "file_extension": ".py",
   "mimetype": "text/x-python",
   "name": "python",
   "nbconvert_exporter": "python",
   "pygments_lexer": "ipython3",
   "version": "3.6.5"
  }
 },
 "nbformat": 4,
 "nbformat_minor": 1
}
